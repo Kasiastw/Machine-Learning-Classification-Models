{
 "cells": [
  {
   "cell_type": "code",
   "execution_count": 1,
   "metadata": {},
   "outputs": [],
   "source": [
    "# to handle datasets\n",
    "import pandas as pd\n",
    "import numpy as np\n",
    "\n",
    "# for plotting\n",
    "import matplotlib.pyplot as plt\n",
    "%matplotlib inline\n",
    "\n",
    "#hyperparameter tuning # to divide train and test set\n",
    "from sklearn.model_selection import train_test_split\n",
    "from sklearn.model_selection import GridSearchCV\n",
    "from sklearn.model_selection import cross_val_score, cross_val_predict\n",
    "from sklearn.metrics import mean_squared_error\n",
    "from sklearn.preprocessing import label_binarize\n",
    "\n",
    "#to preprocess the text\n",
    "from textacy.preprocess import preprocess_text\n",
    "import nltk\n",
    "from nltk.stem import WordNetLemmatizer\n",
    "from sklearn.feature_extraction.text import CountVectorizer\n",
    "\n",
    "#importing packages for lemming and stemmetizing\n",
    "import nltk\n",
    "from nltk.stem.porter import PorterStemmer\n",
    "from nltk.stem.lancaster import LancasterStemmer\n",
    "from nltk.stem import WordNetLemmatizer, SnowballStemmer\n",
    "\n",
    "import warnings\n",
    "warnings.filterwarnings('ignore')\n",
    "\n",
    "# to display all the columns of the dataframe in the notebook\n",
    "pd.pandas.set_option('display.max_columns', None)"
   ]
  },
  {
   "cell_type": "markdown",
   "metadata": {},
   "source": [
    "The feature engineering part contains engineering of:\n",
    "    - missing values (imputing with mean/random sample andd creating a binary variable which can capture the missgness)\n",
    "    - categorical variables (mean and count encoding)\n",
    "    - discrete variables (rare values engineering)\n",
    "    - continous variables (extractiong additional variables)\n",
    "    - text (cleaning, removing the stop words, removing the rare and the most frequent words, spelling correction, Extracting all words with hashtags and '@'. it doesn't include removing the abbreviations)\n",
    "    \n",
    " For the feature selection I checked the chi2 scores. Also while bulding my pipeline I gridserached my model with penelty L1 which was selentec as the best parameter. \n",
    " \n",
    " The model part shows the results of gridsearching. I also wanted to check if my model over- or underfit by comparing test and train errors."
   ]
  },
  {
   "cell_type": "code",
   "execution_count": 2,
   "metadata": {},
   "outputs": [
    {
     "name": "stdout",
     "output_type": "stream",
     "text": [
      "(14640, 11)\n"
     ]
    },
    {
     "data": {
      "text/html": [
       "<div>\n",
       "<style scoped>\n",
       "    .dataframe tbody tr th:only-of-type {\n",
       "        vertical-align: middle;\n",
       "    }\n",
       "\n",
       "    .dataframe tbody tr th {\n",
       "        vertical-align: top;\n",
       "    }\n",
       "\n",
       "    .dataframe thead th {\n",
       "        text-align: right;\n",
       "    }\n",
       "</style>\n",
       "<table border=\"1\" class=\"dataframe\">\n",
       "  <thead>\n",
       "    <tr style=\"text-align: right;\">\n",
       "      <th></th>\n",
       "      <th>tweet_id</th>\n",
       "      <th>airline_sentiment</th>\n",
       "      <th>airline_sentiment_confidence</th>\n",
       "      <th>negativereason</th>\n",
       "      <th>negativereason_confidence</th>\n",
       "      <th>airline</th>\n",
       "      <th>airline_sentiment_gold</th>\n",
       "      <th>name</th>\n",
       "      <th>negativereason_gold</th>\n",
       "      <th>retweet_count</th>\n",
       "      <th>text</th>\n",
       "    </tr>\n",
       "  </thead>\n",
       "  <tbody>\n",
       "    <tr>\n",
       "      <th>0</th>\n",
       "      <td>570306133677760513</td>\n",
       "      <td>neutral</td>\n",
       "      <td>1.0000</td>\n",
       "      <td>NaN</td>\n",
       "      <td>NaN</td>\n",
       "      <td>Virgin America</td>\n",
       "      <td>NaN</td>\n",
       "      <td>cairdin</td>\n",
       "      <td>NaN</td>\n",
       "      <td>0</td>\n",
       "      <td>@VirginAmerica What @dhepburn said.</td>\n",
       "    </tr>\n",
       "    <tr>\n",
       "      <th>1</th>\n",
       "      <td>570301130888122368</td>\n",
       "      <td>positive</td>\n",
       "      <td>0.3486</td>\n",
       "      <td>NaN</td>\n",
       "      <td>0.0</td>\n",
       "      <td>Virgin America</td>\n",
       "      <td>NaN</td>\n",
       "      <td>jnardino</td>\n",
       "      <td>NaN</td>\n",
       "      <td>0</td>\n",
       "      <td>@VirginAmerica plus you've added commercials t...</td>\n",
       "    </tr>\n",
       "  </tbody>\n",
       "</table>\n",
       "</div>"
      ],
      "text/plain": [
       "             tweet_id airline_sentiment  airline_sentiment_confidence  \\\n",
       "0  570306133677760513           neutral                        1.0000   \n",
       "1  570301130888122368          positive                        0.3486   \n",
       "\n",
       "  negativereason  negativereason_confidence         airline  \\\n",
       "0            NaN                        NaN  Virgin America   \n",
       "1            NaN                        0.0  Virgin America   \n",
       "\n",
       "  airline_sentiment_gold      name negativereason_gold  retweet_count  \\\n",
       "0                    NaN   cairdin                 NaN              0   \n",
       "1                    NaN  jnardino                 NaN              0   \n",
       "\n",
       "                                                text  \n",
       "0                @VirginAmerica What @dhepburn said.  \n",
       "1  @VirginAmerica plus you've added commercials t...  "
      ]
     },
     "execution_count": 2,
     "metadata": {},
     "output_type": "execute_result"
    }
   ],
   "source": [
    "# load dataset\n",
    "data = pd.read_csv('Tweets.csv', usecols = ['tweet_id', 'airline_sentiment', 'airline_sentiment_confidence',\n",
    "       'negativereason', 'negativereason_confidence', 'airline',\n",
    "       'airline_sentiment_gold', 'name', 'negativereason_gold',\n",
    "       'retweet_count', 'text'] ) #I  will build a model using these features. I would like to preprocess the variables \n",
    "                                    # 'tweet_coord', 'tweet_created','tweet_location', 'user_timezone' using the library pytz\n",
    "                                    # which will help me to extract the additional information from those variables:\n",
    "                                    # such as location: country or continent. At the moment the variable: Location/timeuser \n",
    "                                    # contain only cities which make this variable with high cardinality\n",
    "\n",
    "# rows and columns of the data\n",
    "print(data.shape)\n",
    "\n",
    "# visualise the dataset\n",
    "data.head(2)"
   ]
  },
  {
   "cell_type": "code",
   "execution_count": 3,
   "metadata": {},
   "outputs": [
    {
     "data": {
      "text/plain": [
       "(14640, 11)"
      ]
     },
     "execution_count": 3,
     "metadata": {},
     "output_type": "execute_result"
    }
   ],
   "source": [
    "#Removing the duplicates before train and test split\n",
    "data.drop_duplicates(keep = False)\n",
    "\n",
    "#check the size\n",
    "data.shape"
   ]
  },
  {
   "cell_type": "code",
   "execution_count": 4,
   "metadata": {},
   "outputs": [
    {
     "data": {
      "text/plain": [
       "((11712, 10), (2928, 10))"
      ]
     },
     "execution_count": 4,
     "metadata": {},
     "output_type": "execute_result"
    }
   ],
   "source": [
    "# Let's separate into train and test set\n",
    "\n",
    "X_train, X_test, y_train, y_test = train_test_split(data.loc[:, data.columns != 'airline_sentiment'], data.airline_sentiment,\n",
    "                                                    test_size=0.2,\n",
    "                                                    random_state=0) # we are setting the seed here\n",
    "X_train.shape, X_test.shape"
   ]
  },
  {
   "cell_type": "code",
   "execution_count": 5,
   "metadata": {},
   "outputs": [
    {
     "data": {
      "text/plain": [
       "-1    0.623975\n",
       " 0    0.212176\n",
       " 1    0.163849\n",
       "Name: airline_sentiment, dtype: float64"
      ]
     },
     "execution_count": 5,
     "metadata": {},
     "output_type": "execute_result"
    }
   ],
   "source": [
    "# label encoding of a target \n",
    "labels = {'positive':1, 'neutral':0, 'negative':-1}\n",
    "y_train = y_train.map(labels)\n",
    "y_test = y_test.map(labels)\n",
    "\n",
    "#the classes disribution of a target on the whole \n",
    "y_train.value_counts()/len(y_train)"
   ]
  },
  {
   "cell_type": "markdown",
   "metadata": {},
   "source": [
    "### Numerical variables"
   ]
  },
  {
   "cell_type": "code",
   "execution_count": 6,
   "metadata": {},
   "outputs": [
    {
     "data": {
      "text/plain": [
       "['tweet_id',\n",
       " 'airline_sentiment_confidence',\n",
       " 'negativereason_confidence',\n",
       " 'retweet_count']"
      ]
     },
     "execution_count": 6,
     "metadata": {},
     "output_type": "execute_result"
    }
   ],
   "source": [
    "#find all numerical variables\n",
    "num_vars = [var for var in data.columns if data[var].dtypes != 'O']\n",
    "num_vars"
   ]
  },
  {
   "cell_type": "markdown",
   "metadata": {},
   "source": [
    "### Discrete variables"
   ]
  },
  {
   "cell_type": "code",
   "execution_count": 7,
   "metadata": {},
   "outputs": [
    {
     "data": {
      "text/plain": [
       "[['retweet_count']]"
      ]
     },
     "execution_count": 7,
     "metadata": {},
     "output_type": "execute_result"
    }
   ],
   "source": [
    "#select only the discrete ones\n",
    "discrete_vars = [var for var in num_vars if len(data[var].unique())<20 and var not in ['tweet_id']+['airline_sentiment']]\n",
    "[discrete_vars]"
   ]
  },
  {
   "cell_type": "code",
   "execution_count": 8,
   "metadata": {},
   "outputs": [
    {
     "name": "stdout",
     "output_type": "stream",
     "text": [
      "Series([], dtype: float64)\n",
      "Series([], dtype: float64)\n"
     ]
    }
   ],
   "source": [
    "# print variables with missing data\n",
    "def search_nulls(df, var):\n",
    "    nulls = df[var].isnull().mean()[df[var].isnull().mean()>0]\n",
    "    return nulls \n",
    "\n",
    "print(search_nulls(X_train, discrete_vars))\n",
    "print(search_nulls(X_test, discrete_vars))"
   ]
  },
  {
   "cell_type": "code",
   "execution_count": 9,
   "metadata": {},
   "outputs": [
    {
     "name": "stdout",
     "output_type": "stream",
     "text": [
      "retweet_count 0     0.947490\n",
      "1     0.044057\n",
      "2     0.004184\n",
      "3     0.001537\n",
      "4     0.001452\n",
      "5     0.000256\n",
      "7     0.000171\n",
      "22    0.000171\n",
      "6     0.000171\n",
      "31    0.000085\n",
      "15    0.000085\n",
      "44    0.000085\n",
      "28    0.000085\n",
      "18    0.000085\n",
      "8     0.000085\n",
      "Name: retweet_count, dtype: float64\n",
      "retweet_count 0     0.948087\n",
      "1     0.042350\n",
      "2     0.005806\n",
      "3     0.001366\n",
      "5     0.000683\n",
      "11    0.000342\n",
      "9     0.000342\n",
      "7     0.000342\n",
      "32    0.000342\n",
      "6     0.000342\n",
      "Name: retweet_count, dtype: float64\n"
     ]
    }
   ],
   "source": [
    "#see how the discrete variable is distributed on train and test set, ispect if there any categories\n",
    "#with <1% of tweets in variable\n",
    "for var in discrete_vars:\n",
    "    print(var, X_train[var].value_counts()/np.float(len(X_train)))\n",
    "    print(var, X_test[var].value_counts()/np.float(len(X_test)))"
   ]
  },
  {
   "cell_type": "code",
   "execution_count": 10,
   "metadata": {},
   "outputs": [],
   "source": [
    "def rare_imputation(variable):    \n",
    "    # find frequency of labels\n",
    "    temp = data.groupby([var])[var].count()/np.float(len(data))\n",
    "    frequent_cat = [x for x in temp.loc[temp>0.01].index.values]\n",
    "    X_train[var] = np.where(X_train[var].isin(frequent_cat), X_train[var], 'Rare')\n",
    "    X_test[var] = np.where(X_test[var].isin(frequent_cat), X_test[var], 'Rare')"
   ]
  },
  {
   "cell_type": "code",
   "execution_count": 11,
   "metadata": {},
   "outputs": [],
   "source": [
    "rare_imputation('retweet_count')"
   ]
  },
  {
   "cell_type": "code",
   "execution_count": 12,
   "metadata": {},
   "outputs": [
    {
     "name": "stdout",
     "output_type": "stream",
     "text": [
      "0       11097\n",
      "1         516\n",
      "Rare       99\n",
      "Name: retweet_count, dtype: int64\n",
      "0       2776\n",
      "1        124\n",
      "Rare      28\n",
      "Name: retweet_count, dtype: int64\n"
     ]
    }
   ],
   "source": [
    "print(X_train.retweet_count.value_counts())\n",
    "print(X_test.retweet_count.value_counts())"
   ]
  },
  {
   "cell_type": "code",
   "execution_count": 13,
   "metadata": {},
   "outputs": [],
   "source": [
    "#encode rare values with '2' (previously 2 was denoted by 2 tweets)\n",
    "labels_dict = {k:i for i, k in enumerate(X_train['retweet_count'].unique(), 0)}\n",
    "X_train['retweet_count'] = X_train['retweet_count'].map(labels_dict )\n",
    "X_test['retweet_count'] = X_test['retweet_count'].map(labels_dict)"
   ]
  },
  {
   "cell_type": "markdown",
   "metadata": {},
   "source": [
    "### Continuous variables "
   ]
  },
  {
   "cell_type": "code",
   "execution_count": 14,
   "metadata": {},
   "outputs": [
    {
     "data": {
      "text/plain": [
       "['airline_sentiment_confidence', 'negativereason_confidence']"
      ]
     },
     "execution_count": 14,
     "metadata": {},
     "output_type": "execute_result"
    }
   ],
   "source": [
    "# list of continuous variables\n",
    "cont_vars = [var for var in num_vars if var not in discrete_vars+['tweet_id']+['airline_sentiment']]\n",
    "cont_vars"
   ]
  },
  {
   "cell_type": "markdown",
   "metadata": {},
   "source": [
    "##### Missing values "
   ]
  },
  {
   "cell_type": "code",
   "execution_count": 15,
   "metadata": {},
   "outputs": [
    {
     "name": "stdout",
     "output_type": "stream",
     "text": [
      "negativereason_confidence    0.283811\n",
      "dtype: float64\n",
      "negativereason_confidence    0.271175\n",
      "dtype: float64\n"
     ]
    }
   ],
   "source": [
    "# print variables with missing data\n",
    "print(search_nulls(X_train, cont_vars))\n",
    "print(search_nulls(X_test, cont_vars))"
   ]
  },
  {
   "cell_type": "code",
   "execution_count": 16,
   "metadata": {},
   "outputs": [
    {
     "data": {
      "text/plain": [
       "<matplotlib.axes._subplots.AxesSubplot at 0x2d7fe017208>"
      ]
     },
     "execution_count": 16,
     "metadata": {},
     "output_type": "execute_result"
    },
    {
     "data": {
      "image/png": "[encoded data removed]",
      "text/plain": [
       "<Figure size 432x288 with 1 Axes>"
      ]
     },
     "metadata": {
      "needs_background": "light"
     },
     "output_type": "display_data"
    }
   ],
   "source": [
    "# For most of tweets where the negativereason_confidence wasn't given, the sentiment is positive or neutral.\n",
    "mask =data[data.negativereason.isnull()==True]\n",
    "mask.airline_sentiment_confidence.hist()"
   ]
  },
  {
   "cell_type": "code",
   "execution_count": 17,
   "metadata": {},
   "outputs": [
    {
     "name": "stdout",
     "output_type": "stream",
     "text": [
      "Original Variance:  0.33107759233857276\n",
      "Variance after median imputation:  0.2805586327534001\n"
     ]
    }
   ],
   "source": [
    "# see a change in the variance after imputation with median\n",
    "median = data.negativereason_confidence.median()\n",
    "print('Original Variance: ', X_train.negativereason_confidence.std())\n",
    "print('Variance after median imputation: ', X_train.negativereason_confidence.fillna(median).std())"
   ]
  },
  {
   "cell_type": "code",
   "execution_count": 18,
   "metadata": {},
   "outputs": [
    {
     "data": {
      "text/plain": [
       "<matplotlib.legend.Legend at 0x2d7fe37df28>"
      ]
     },
     "execution_count": 18,
     "metadata": {},
     "output_type": "execute_result"
    },
    {
     "data": {
      "image/png": "[encoded data removed]",
      "text/plain": [
       "<Figure size 432x288 with 1 Axes>"
      ]
     },
     "metadata": {
      "needs_background": "light"
     },
     "output_type": "display_data"
    }
   ],
   "source": [
    "# the distribution has changed slightly with now more values accumulating towards the median\n",
    "fig = plt.figure()\n",
    "ax = fig.add_subplot(111)\n",
    "X_train['negativereason_confidence'].plot(kind='kde', ax=ax)\n",
    "X_train.negativereason_confidence.fillna(median).plot(kind='kde', ax=ax, color='red')\n",
    "lines, labels = ax.get_legend_handles_labels()\n",
    "ax.legend(lines, labels, loc='best')"
   ]
  },
  {
   "cell_type": "markdown",
   "metadata": {},
   "source": [
    "The median imputation distorts the original distribution of the variable. The transformed variable shows more values around the median value."
   ]
  },
  {
   "cell_type": "markdown",
   "metadata": {},
   "source": [
    "##### median imputation and adding an extra binary variable which indicates wheather a value in variable is missing or not"
   ]
  },
  {
   "cell_type": "code",
   "execution_count": 19,
   "metadata": {},
   "outputs": [
    {
     "name": "stdout",
     "output_type": "stream",
     "text": [
      "0\n",
      "Index(['tweet_id', 'airline_sentiment_confidence', 'negativereason',\n",
      "       'negativereason_confidence', 'airline', 'airline_sentiment_gold',\n",
      "       'name', 'negativereason_gold', 'retweet_count', 'text',\n",
      "       'negativereason_confidence_NA'],\n",
      "      dtype='object')\n"
     ]
    }
   ],
   "source": [
    "# impute with median and create a binary variable\n",
    "def impute_na(df, var):\n",
    "    # calculate the mode\n",
    "    median = df[var].median()\n",
    "    \n",
    "    # replace with median and create an extra binary variable which capture this information\n",
    "    df[var+'_NA'] = np.where(df[var].isnull(), 1, 0)\n",
    "    df[var].fillna(median, inplace=True)\n",
    "    return df[var+'_NA'], df[var]\n",
    "\n",
    "impute_na(X_train, 'negativereason_confidence')\n",
    "impute_na(X_test, 'negativereason_confidence')\n",
    "\n",
    "#make sure that the function workd \n",
    "print(X_train.negativereason_confidence.isnull().sum())\n",
    "\n",
    "#check if the variable was added \n",
    "print(X_train.columns)"
   ]
  },
  {
   "cell_type": "code",
   "execution_count": 20,
   "metadata": {},
   "outputs": [
    {
     "data": {
      "image/png": "[encoded data removed]",
      "text/plain": [
       "<Figure size 432x288 with 1 Axes>"
      ]
     },
     "metadata": {
      "needs_background": "light"
     },
     "output_type": "display_data"
    },
    {
     "data": {
      "image/png": "[encoded data removed]",
      "text/plain": [
       "<Figure size 432x288 with 1 Axes>"
      ]
     },
     "metadata": {
      "needs_background": "light"
     },
     "output_type": "display_data"
    }
   ],
   "source": [
    "# Let's see how these variables are the distributed\n",
    "def analyse_continous(df, var):\n",
    "    df = df.copy()\n",
    "    df[var].hist(bins=20)\n",
    "    plt.ylabel('Number of tweets')\n",
    "    plt.xlabel(var)\n",
    "    plt.title(var)\n",
    "    plt.show()\n",
    "    \n",
    "for var in cont_vars:\n",
    "    analyse_continous(X_train, var)"
   ]
  },
  {
   "cell_type": "markdown",
   "metadata": {},
   "source": [
    "##### binning the continuous variable (equal width binning)"
   ]
  },
  {
   "cell_type": "code",
   "execution_count": 21,
   "metadata": {},
   "outputs": [],
   "source": [
    "intervals = [0, 0.25, 0.5, 0.75, 1]\n",
    "X_train['negativereason_confidence_disc'] = pd.cut(x = X_train.negativereason_confidence, labels=[0, 1, 2, 3], bins=intervals, include_lowest=True)\n",
    "X_test['negativereason_confidence_disc'] = pd.cut(x = X_test.negativereason_confidence, labels=[0, 1, 2, 3], bins=intervals, include_lowest=True)\n",
    "\n",
    "intervals = [0, 0.25, 0.5, 0.75, 1]\n",
    "X_train['airline_sentiment_confidence_disc'] = pd.cut(x = X_train.airline_sentiment_confidence, labels=[0, 1, 2, 3], bins=intervals, include_lowest=True)\n",
    "X_test['airline_sentiment_confidence_disc'] = pd.cut(x = X_test.airline_sentiment_confidence, labels=[0, 1, 2, 3], bins=intervals, include_lowest=True)"
   ]
  },
  {
   "cell_type": "code",
   "execution_count": 22,
   "metadata": {},
   "outputs": [],
   "source": [
    "for var in ['negativereason_confidence_disc', 'airline_sentiment_confidence_disc' ]:\n",
    "    labels_dict = {k:i for i, k in enumerate(X_train[var].unique(), 0)}\n",
    "    X_train.loc[:, var] = X_train.loc[:, var].map(labels_dict )\n",
    "    X_test.loc[:, var] = X_test.loc[:, var].map(labels_dict)"
   ]
  },
  {
   "cell_type": "code",
   "execution_count": 23,
   "metadata": {},
   "outputs": [
    {
     "data": {
      "text/plain": [
       "array([0, 1, 2], dtype=int64)"
      ]
     },
     "execution_count": 23,
     "metadata": {},
     "output_type": "execute_result"
    }
   ],
   "source": [
    "X_test.negativereason_confidence_disc.unique()\n",
    "X_test.airline_sentiment_confidence_disc.unique()"
   ]
  },
  {
   "cell_type": "markdown",
   "metadata": {},
   "source": [
    "##### the relationship between the target and variables which were binned"
   ]
  },
  {
   "cell_type": "code",
   "execution_count": 24,
   "metadata": {},
   "outputs": [],
   "source": [
    "# if the distributions in train and test set are similar, we should expect similar distribution of \n",
    "# observations in the different intervals in the train and test set\n",
    "\n",
    "temp_train = pd.concat([X_train, y_train], axis = 1)\n",
    "temp_test = pd.concat([X_test, y_test], axis = 1)\n",
    "t1 = temp_train.groupby(['negativereason_confidence_disc'])['airline_sentiment'].count() / np.float(len(X_train))\n",
    "t2 = temp_test.groupby(['negativereason_confidence_disc'])['airline_sentiment'].count() / np.float(len(X_test))"
   ]
  },
  {
   "cell_type": "code",
   "execution_count": 25,
   "metadata": {},
   "outputs": [
    {
     "data": {
      "text/plain": [
       "Text(0.5, 0, 'airline_sentiment_confidence_disc')"
      ]
     },
     "execution_count": 25,
     "metadata": {},
     "output_type": "execute_result"
    },
    {
     "data": {
      "image/png": "[encoded data removed]",
      "text/plain": [
       "<Figure size 864x432 with 2 Axes>"
      ]
     },
     "metadata": {
      "needs_background": "light"
     },
     "output_type": "display_data"
    }
   ],
   "source": [
    "# and now let's observe the relationship between age and surival again, using the discrete Age transformed \n",
    "# variable\n",
    "\n",
    "plt.figure(figsize=(15,6))\n",
    "plt.subplot(1, 2, 1)\n",
    "fig = temp_train.groupby(['negativereason_confidence'])['airline_sentiment'].count().plot(figsize=(12,6))\n",
    "fig.set_title('Relationship between variable before disc and target')\n",
    "fig.set_ylabel('airline_sentiment')\n",
    "fig.set_xlabel('airline_sentiment_confidence')\n",
    "\n",
    "plt.subplot(1, 2, 2)\n",
    "fig = temp_train.groupby(['negativereason_confidence_disc'])['airline_sentiment'].count().plot(figsize=(12,6))\n",
    "fig.set_title('Normal relationship between disc variable and target')\n",
    "fig.set_xlabel('airline_sentiment_confidence_disc')"
   ]
  },
  {
   "cell_type": "code",
   "execution_count": 26,
   "metadata": {},
   "outputs": [
    {
     "data": {
      "text/plain": [
       "Text(0.5, 0, 'airline_sentiment_confidence_disc')"
      ]
     },
     "execution_count": 26,
     "metadata": {},
     "output_type": "execute_result"
    },
    {
     "data": {
      "image/png": "[encoded data removed]",
      "text/plain": [
       "<Figure size 864x432 with 2 Axes>"
      ]
     },
     "metadata": {
      "needs_background": "light"
     },
     "output_type": "display_data"
    }
   ],
   "source": [
    "# and now let's observe the relationship between age and surival again, using the discrete transformed \n",
    "# variable\n",
    "\n",
    "plt.figure(figsize=(15,6))\n",
    "plt.subplot(1, 2, 1)\n",
    "fig = temp_train.groupby(['airline_sentiment_confidence'])['airline_sentiment'].count().plot(figsize=(12,6))\n",
    "fig.set_title('Relationship between variable before disc and target')\n",
    "fig.set_ylabel('airline_sentiment')\n",
    "fig.set_xlabel('airline_sentiment_confidence')\n",
    "\n",
    "# and now let's observe the relationship between age and surival again, using the discrete transformed \n",
    "# variable\n",
    "\n",
    "plt.subplot(1, 2, 2)\n",
    "fig = temp_train.groupby(['airline_sentiment_confidence_disc'])['airline_sentiment'].count().plot(figsize=(12,6))\n",
    "fig.set_title('Relationship between disc variable and target')\n",
    "fig.set_ylabel('airline_sentiment')\n",
    "fig.set_xlabel('airline_sentiment_confidence_disc')"
   ]
  },
  {
   "cell_type": "markdown",
   "metadata": {},
   "source": [
    "The relationship between the airline_sentiment_confidence and target looks quite monotonic. On the ther hand, binning 'negativereason_confidence' variable which was imputed with median distorted the relationship between the target and predictor"
   ]
  },
  {
   "cell_type": "markdown",
   "metadata": {},
   "source": [
    "### Categorical variables"
   ]
  },
  {
   "cell_type": "code",
   "execution_count": 27,
   "metadata": {},
   "outputs": [
    {
     "data": {
      "text/plain": [
       "['negativereason',\n",
       " 'airline',\n",
       " 'airline_sentiment_gold',\n",
       " 'name',\n",
       " 'negativereason_gold']"
      ]
     },
     "execution_count": 27,
     "metadata": {},
     "output_type": "execute_result"
    }
   ],
   "source": [
    "### find all categorical variables in dataset\n",
    "cat_vars = [var for var in data.columns if data[var].dtypes=='O' and var not in ['text']+['airline_sentiment']]\n",
    "cat_vars"
   ]
  },
  {
   "cell_type": "markdown",
   "metadata": {},
   "source": [
    "##### Missing values "
   ]
  },
  {
   "cell_type": "code",
   "execution_count": 28,
   "metadata": {},
   "outputs": [
    {
     "name": "stdout",
     "output_type": "stream",
     "text": [
      "negativereason            0.376025\n",
      "airline_sentiment_gold    0.997012\n",
      "negativereason_gold       0.997695\n",
      "dtype: float64\n",
      "negativereason            0.361339\n",
      "airline_sentiment_gold    0.998292\n",
      "negativereason_gold       0.998292\n",
      "dtype: float64\n"
     ]
    }
   ],
   "source": [
    "# print variables with missing data\n",
    "print(search_nulls(X_train, cat_vars))\n",
    "print(search_nulls(X_test, cat_vars))"
   ]
  },
  {
   "cell_type": "markdown",
   "metadata": {},
   "source": [
    "I will drop the variables with the missing values >99%. I will impute the missing values with a random sample in the variable negativereason and create a binary viarable which can capture wheather the value is missing or not."
   ]
  },
  {
   "cell_type": "code",
   "execution_count": 29,
   "metadata": {},
   "outputs": [
    {
     "data": {
      "text/plain": [
       "Index(['tweet_id', 'airline_sentiment_confidence', 'negativereason',\n",
       "       'negativereason_confidence', 'airline', 'name', 'retweet_count', 'text',\n",
       "       'negativereason_confidence_NA', 'negativereason_confidence_disc',\n",
       "       'airline_sentiment_confidence_disc'],\n",
       "      dtype='object')"
      ]
     },
     "execution_count": 29,
     "metadata": {},
     "output_type": "execute_result"
    }
   ],
   "source": [
    "#dropping columns with the missing values >99%\n",
    "for var in ['airline_sentiment_gold', 'negativereason_gold']:\n",
    "    X_train.drop([var], axis = 1, inplace = True)\n",
    "    X_test.drop([var], axis = 1, inplace = True)\n",
    "\n",
    "#see the columns \n",
    "X_train.columns"
   ]
  },
  {
   "cell_type": "code",
   "execution_count": 30,
   "metadata": {},
   "outputs": [],
   "source": [
    "# replace the missing values with a random sample and create an extra variable which can capture \n",
    "# the missingness \n",
    "\n",
    "def impute_na(df, var):\n",
    "    # add additional variable to indicate missingness\n",
    "    df[var+'_NA'] = np.where(df[var].isnull(), 1, 0)\n",
    "    \n",
    "    #random sampling\n",
    "    df[var+'_random'] = df[var]#adding a new variable so I can compare with the one which was not imputed \n",
    "    \n",
    "    # extract the random sample to fill the na\n",
    "    random_sample = df[var].dropna().sample(df[var].isnull().sum())\n",
    "    \n",
    "    # pandas needs to have the same index in order to merge datasets\n",
    "    random_sample.index = df[df[var].isnull()].index\n",
    "    \n",
    "    df.loc[df[var].isnull(), var+'_random'] = random_sample\n",
    "    \n",
    "    return df[var+'_NA'], df[var+'_random']    "
   ]
  },
  {
   "cell_type": "code",
   "execution_count": 31,
   "metadata": {},
   "outputs": [
    {
     "data": {
      "text/plain": [
       "0"
      ]
     },
     "execution_count": 31,
     "metadata": {},
     "output_type": "execute_result"
    }
   ],
   "source": [
    "impute_na(X_train, 'negativereason')\n",
    "impute_na(X_test, 'negativereason')\n",
    "\n",
    "#see if the function worked\n",
    "X_train.negativereason_random.isnull().sum()"
   ]
  },
  {
   "cell_type": "code",
   "execution_count": 32,
   "metadata": {},
   "outputs": [
    {
     "data": {
      "text/plain": [
       "<matplotlib.axes._subplots.AxesSubplot at 0x2d7fe69d4e0>"
      ]
     },
     "execution_count": 32,
     "metadata": {},
     "output_type": "execute_result"
    },
    {
     "data": {
      "image/png": "[encoded data removed]",
      "text/plain": [
       "<Figure size 432x288 with 1 Axes>"
      ]
     },
     "metadata": {
      "needs_background": "light"
     },
     "output_type": "display_data"
    }
   ],
   "source": [
    "#compare variable before and after imputation\n",
    "var1 = X_train.groupby(['negativereason'])['negativereason'].count() / np.float(len(X_train))\n",
    "var2 = X_train.groupby(['negativereason_random'])['negativereason_random'].count() / np.float(len(X_train))\n",
    "temp = pd.concat([var1,var2], axis=1)\n",
    "temp.columns = ['before imputation', 'after imputation']\n",
    "temp.plot.bar()"
   ]
  },
  {
   "cell_type": "code",
   "execution_count": 33,
   "metadata": {},
   "outputs": [
    {
     "data": {
      "text/html": [
       "<div>\n",
       "<style scoped>\n",
       "    .dataframe tbody tr th:only-of-type {\n",
       "        vertical-align: middle;\n",
       "    }\n",
       "\n",
       "    .dataframe tbody tr th {\n",
       "        vertical-align: top;\n",
       "    }\n",
       "\n",
       "    .dataframe thead th {\n",
       "        text-align: right;\n",
       "    }\n",
       "</style>\n",
       "<table border=\"1\" class=\"dataframe\">\n",
       "  <thead>\n",
       "    <tr style=\"text-align: right;\">\n",
       "      <th></th>\n",
       "      <th>negativereason_random</th>\n",
       "      <th>negativereason</th>\n",
       "    </tr>\n",
       "    <tr>\n",
       "      <th>airline_sentiment</th>\n",
       "      <th></th>\n",
       "      <th></th>\n",
       "    </tr>\n",
       "  </thead>\n",
       "  <tbody>\n",
       "    <tr>\n",
       "      <th>-1</th>\n",
       "      <td>7308</td>\n",
       "      <td>7308</td>\n",
       "    </tr>\n",
       "    <tr>\n",
       "      <th>0</th>\n",
       "      <td>2485</td>\n",
       "      <td>0</td>\n",
       "    </tr>\n",
       "    <tr>\n",
       "      <th>1</th>\n",
       "      <td>1919</td>\n",
       "      <td>0</td>\n",
       "    </tr>\n",
       "  </tbody>\n",
       "</table>\n",
       "</div>"
      ],
      "text/plain": [
       "                   negativereason_random  negativereason\n",
       "airline_sentiment                                       \n",
       "-1                                  7308            7308\n",
       " 0                                  2485               0\n",
       " 1                                  1919               0"
      ]
     },
     "execution_count": 33,
     "metadata": {},
     "output_type": "execute_result"
    }
   ],
   "source": [
    "#random sampling assigned more values to of negative reason do positive and neutral sentiment which\n",
    "#weren't present in the training set before \n",
    "temp = pd.concat([X_train[['negativereason', 'negativereason_random']], y_train], axis=1)\n",
    "temp.groupby('airline_sentiment')['negativereason_random', 'negativereason'].count()"
   ]
  },
  {
   "cell_type": "markdown",
   "metadata": {},
   "source": [
    "If we look at the variable which was imputed by the random sampling, we can notice that some of the data points were assigned to the positive and neutral airline sentiment. The variable before imputation with random sample included only the data points which reflected negative sentiment"
   ]
  },
  {
   "cell_type": "markdown",
   "metadata": {},
   "source": [
    "##### cardinality "
   ]
  },
  {
   "cell_type": "code",
   "execution_count": 34,
   "metadata": {},
   "outputs": [],
   "source": [
    "#get all categorical variables\n",
    "cat_vars = [var for var in X_train.columns if X_train[var].dtypes=='O' and var not in ['text']]\n",
    "cat_vars.sort()"
   ]
  },
  {
   "cell_type": "code",
   "execution_count": 35,
   "metadata": {},
   "outputs": [
    {
     "name": "stdout",
     "output_type": "stream",
     "text": [
      "airline airline\n",
      "American          0.188866\n",
      "Delta             0.150359\n",
      "Southwest         0.164959\n",
      "US Airways        0.197490\n",
      "United            0.264771\n",
      "Virgin America    0.033555\n",
      "Name: airline, dtype: float64\n",
      "------------------------------------------------------------\n",
      "name name\n",
      "0504Traveller      0.000427\n",
      "09202010           0.000171\n",
      "0veranalyser       0.000085\n",
      "0xjared            0.000085\n",
      "1234567890_        0.000085\n",
      "140JustinC         0.000427\n",
      "18handicap         0.000085\n",
      "1JENSABA           0.000256\n",
      "1KingMeech         0.000085\n",
      "1LovePT            0.000171\n",
      "1MisterHandsome    0.000342\n",
      "1_7_8_0            0.000085\n",
      "1malindac          0.000085\n",
      "1stcrown           0.000085\n",
      "201Chef            0.000171\n",
      "215strongbul       0.000085\n",
      "219jondn           0.000171\n",
      "21stCenturyMom     0.000256\n",
      "2533107724Paul     0.000171\n",
      "27_POWERS          0.000171\n",
      "29MC29             0.000085\n",
      "2Hats1Mike         0.000085\n",
      "2cJustice4all      0.000427\n",
      "2littlebirds       0.000171\n",
      "2lnr               0.000085\n",
      "2tsieRole          0.000171\n",
      "2v                 0.000085\n",
      "305Josec           0.000085\n",
      "32432tee           0.000085\n",
      "3speed             0.000085\n",
      "                     ...   \n",
      "youfancygirl       0.000085\n",
      "your_ride_dear     0.000171\n",
      "yourlama           0.000085\n",
      "yourlocalnyer      0.000171\n",
      "youroptimallife    0.000085\n",
      "yoyijr             0.000085\n",
      "yrbkmiketaylor     0.000085\n",
      "yuethomas          0.000256\n",
      "yungmetropcs       0.000085\n",
      "yvonnalynn         0.000085\n",
      "yvonneokaka        0.000085\n",
      "z1y2x3             0.000085\n",
      "zZzTeHzZz          0.000085\n",
      "zach_wardroup      0.000085\n",
      "zachkpearson       0.000085\n",
      "zachupton          0.000256\n",
      "zackintheusa       0.000683\n",
      "zacktzane          0.000171\n",
      "zakkohane          0.000085\n",
      "zarrylarou         0.000171\n",
      "zaudrey            0.000085\n",
      "zbarry1015         0.000085\n",
      "zehentbauer        0.000085\n",
      "zengerle           0.000085\n",
      "zfelice            0.000085\n",
      "zinnian0           0.000085\n",
      "zozo24dad          0.000085\n",
      "zsalim03           0.000085\n",
      "zslick99           0.000085\n",
      "zupshawrl          0.000085\n",
      "Name: name, Length: 6706, dtype: float64\n",
      "------------------------------------------------------------\n",
      "negativereason negativereason\n",
      "Bad Flight                     0.040301\n",
      "Can't Tell                     0.080003\n",
      "Cancelled Flight               0.057206\n",
      "Customer Service Issue         0.196294\n",
      "Damaged Luggage                0.005294\n",
      "Flight Attendant Complaints    0.033385\n",
      "Flight Booking Problems        0.035007\n",
      "Late Flight                    0.113132\n",
      "Lost Luggage                   0.050717\n",
      "longlines                      0.012637\n",
      "Name: negativereason, dtype: float64\n",
      "------------------------------------------------------------\n",
      "negativereason_random negativereason_random\n",
      "Bad Flight                     0.064464\n",
      "Can't Tell                     0.129355\n",
      "Cancelled Flight               0.091274\n",
      "Customer Service Issue         0.311475\n",
      "Damaged Luggage                0.008709\n",
      "Flight Attendant Complaints    0.054816\n",
      "Flight Booking Problems        0.056096\n",
      "Late Flight                    0.181779\n",
      "Lost Luggage                   0.081370\n",
      "longlines                      0.020663\n",
      "Name: negativereason_random, dtype: float64\n",
      "------------------------------------------------------------\n"
     ]
    }
   ],
   "source": [
    "#distribution of the variables \n",
    "for var in cat_vars:\n",
    "    if len(X_train[var].unique()):\n",
    "        print(var, X_train.groupby(var)[var].count()/np.float(len(X_train)))\n",
    "        print('---'*20)"
   ]
  },
  {
   "cell_type": "markdown",
   "metadata": {},
   "source": [
    "##### count encoding\n",
    "\n",
    "The variable 'name' has a high cardinality. It contains multiple labels, then by re-encoding them using one hot encoding, I would expand the feature space dramatically. I will replace each label of the categorical variable by the count, this is the amount of times each label appears in the dataset"
   ]
  },
  {
   "cell_type": "code",
   "execution_count": 36,
   "metadata": {},
   "outputs": [],
   "source": [
    "#count encoding the variable 'name'\n",
    "\n",
    "#make the dictionary mapping label to counts on the whole dataset\n",
    "X_frequency_map = data['name'].value_counts().to_dict()\n",
    "        \n",
    "# remap the labels to their counts on the training and test sets\n",
    "X_train['name'] = X_train['name'].map(X_frequency_map)\n",
    "X_test['name'] = X_test['name'].map(X_frequency_map)"
   ]
  },
  {
   "cell_type": "code",
   "execution_count": 37,
   "metadata": {},
   "outputs": [
    {
     "data": {
      "text/plain": [
       "array([ 3,  4,  2,  1, 11, 10,  5,  9,  8, 63,  7,  6, 15, 14, 12, 19, 29,\n",
       "       23, 32, 13, 22, 16, 21, 27, 18, 28, 17, 20], dtype=int64)"
      ]
     },
     "execution_count": 37,
     "metadata": {},
     "output_type": "execute_result"
    }
   ],
   "source": [
    "X_train['name'].unique()"
   ]
  },
  {
   "cell_type": "code",
   "execution_count": 38,
   "metadata": {},
   "outputs": [
    {
     "data": {
      "text/plain": [
       "array([ 2,  4, 23,  1, 20,  3,  6, 63,  5, 21, 12, 13,  8,  7, 10, 14,  9,\n",
       "       28, 19, 11, 17, 22, 29, 27, 18, 32, 16, 15], dtype=int64)"
      ]
     },
     "execution_count": 38,
     "metadata": {},
     "output_type": "execute_result"
    }
   ],
   "source": [
    "X_test['name'].unique()"
   ]
  },
  {
   "cell_type": "code",
   "execution_count": 39,
   "metadata": {},
   "outputs": [
    {
     "data": {
      "text/plain": [
       "<matplotlib.axes._subplots.AxesSubplot at 0x2d7fe746400>"
      ]
     },
     "execution_count": 39,
     "metadata": {},
     "output_type": "execute_result"
    },
    {
     "data": {
      "image/png": "[encoded data removed]",
      "text/plain": [
       "<Figure size 432x288 with 1 Axes>"
      ]
     },
     "metadata": {
      "needs_background": "light"
     },
     "output_type": "display_data"
    }
   ],
   "source": [
    "#the variable 'name' has one predominant category with the users who tweeted\n",
    "#less 5 times\n",
    "X_train['name'].hist(bins=10)"
   ]
  },
  {
   "cell_type": "code",
   "execution_count": 40,
   "metadata": {},
   "outputs": [
    {
     "data": {
      "text/plain": [
       "<matplotlib.axes._subplots.AxesSubplot at 0x2d7fe9415c0>"
      ]
     },
     "execution_count": 40,
     "metadata": {},
     "output_type": "execute_result"
    },
    {
     "data": {
      "image/png": "[encoded data removed]",
      "text/plain": [
       "<Figure size 432x288 with 1 Axes>"
      ]
     },
     "metadata": {
      "needs_background": "light"
     },
     "output_type": "display_data"
    }
   ],
   "source": [
    "#log transformation doesn't help too much. The variable has one predominant category.\n",
    "np.log(X_train['name']).hist()\n",
    "#X_test['name']= np.log(X_test['name'])"
   ]
  },
  {
   "cell_type": "markdown",
   "metadata": {},
   "source": [
    "##### encoding categorical variables\n",
    "\n",
    "Mean ecoding this is equivalent to the probability of sentiment of tweets."
   ]
  },
  {
   "cell_type": "code",
   "execution_count": 41,
   "metadata": {},
   "outputs": [
    {
     "data": {
      "text/plain": [
       "['negativereason', 'airline', 'negativereason_random']"
      ]
     },
     "execution_count": 41,
     "metadata": {},
     "output_type": "execute_result"
    }
   ],
   "source": [
    "### find all categorical variables in dataset\n",
    "cat_vars = [var for var in X_train.columns if X_train[var].dtypes=='O' and var not in ['text']]\n",
    "cat_vars"
   ]
  },
  {
   "cell_type": "code",
   "execution_count": 42,
   "metadata": {},
   "outputs": [
    {
     "name": "stdout",
     "output_type": "stream",
     "text": [
      "negativereason :  11  labels\n",
      "airline :  6  labels\n",
      "negativereason_random :  10  labels\n"
     ]
    }
   ],
   "source": [
    "# look at how many labels\n",
    "for var in cat_vars:\n",
    "    print(var, ': ', len(X_train[var].unique()), ' labels')"
   ]
  },
  {
   "cell_type": "code",
   "execution_count": 43,
   "metadata": {},
   "outputs": [
    {
     "data": {
      "text/plain": [
       "Text(0, 0.5, 'airline_sentiment')"
      ]
     },
     "execution_count": 43,
     "metadata": {},
     "output_type": "execute_result"
    },
    {
     "data": {
      "image/png": "[encoded data removed]",
      "text/plain": [
       "<Figure size 432x288 with 1 Axes>"
      ]
     },
     "metadata": {
      "needs_background": "light"
     },
     "output_type": "display_data"
    }
   ],
   "source": [
    "# plot the transformed result: the monotonic variable\n",
    "\n",
    "fig = plt.figure()\n",
    "temp_train = pd.concat([X_train, y_train], axis = 1)\n",
    "fig = temp_train.groupby(['airline'])['airline_sentiment'].mean().plot()\n",
    "fig.set_title('Relationship between variable and target')\n",
    "fig.set_ylabel('airline_sentiment')"
   ]
  },
  {
   "cell_type": "code",
   "execution_count": 44,
   "metadata": {},
   "outputs": [],
   "source": [
    "for var in ['airline' ]:\n",
    "    labels_dict = {k:i for i, k in enumerate(X_train[var].unique(), 0)}\n",
    "    X_train.loc[:, var] = X_train.loc[:, var].map(labels_dict )\n",
    "    X_test.loc[:, var] = X_test.loc[:, var].map(labels_dict)"
   ]
  },
  {
   "cell_type": "code",
   "execution_count": 45,
   "metadata": {},
   "outputs": [
    {
     "data": {
      "text/plain": [
       "array([0, 1, 2, 3, 4, 5], dtype=int64)"
      ]
     },
     "execution_count": 45,
     "metadata": {},
     "output_type": "execute_result"
    }
   ],
   "source": [
    "X_train.airline.unique()"
   ]
  },
  {
   "cell_type": "code",
   "execution_count": 46,
   "metadata": {},
   "outputs": [
    {
     "data": {
      "text/plain": [
       "{0: -0.17092561044860874,\n",
       " 1: -0.5533698806836505,\n",
       " 2: -0.5872513562386981,\n",
       " 3: -0.2375776397515528,\n",
       " 4: -0.6891482922611327,\n",
       " 5: -0.05089058524173028}"
      ]
     },
     "execution_count": 46,
     "metadata": {},
     "output_type": "execute_result"
    }
   ],
   "source": [
    "# and now let's do the same but capturing the result in a dictionary\n",
    "temp_train = pd.concat([X_train, y_train], axis = 1)\n",
    "ordered_labels = temp_train.groupby(['airline'])['airline_sentiment'].mean().to_dict()\n",
    "ordered_labels"
   ]
  },
  {
   "cell_type": "code",
   "execution_count": 47,
   "metadata": {},
   "outputs": [],
   "source": [
    "X_train['airline'] = X_train.airline.map(ordered_labels)\n",
    "X_test['airline'] = X_test.airline.map(ordered_labels)"
   ]
  },
  {
   "cell_type": "code",
   "execution_count": 48,
   "metadata": {},
   "outputs": [
    {
     "data": {
      "text/plain": [
       "Text(0, 0.5, 'airline_sentiment')"
      ]
     },
     "execution_count": 48,
     "metadata": {},
     "output_type": "execute_result"
    },
    {
     "data": {
      "image/png": "[encoded data removed]",
      "text/plain": [
       "<Figure size 432x288 with 1 Axes>"
      ]
     },
     "metadata": {
      "needs_background": "light"
     },
     "output_type": "display_data"
    }
   ],
   "source": [
    "# plot the transformed result: the monotonic variable\n",
    "fig = plt.figure()\n",
    "temp_train = pd.concat([X_train, y_train], axis = 1)\n",
    "fig = temp_train.groupby(['airline'])['airline_sentiment'].mean().plot()\n",
    "fig.set_title('Relationship between variable and target')\n",
    "fig.set_ylabel('airline_sentiment')"
   ]
  },
  {
   "cell_type": "code",
   "execution_count": 49,
   "metadata": {},
   "outputs": [
    {
     "data": {
      "text/plain": [
       "Text(0, 0.5, 'airline_sentiment')"
      ]
     },
     "execution_count": 49,
     "metadata": {},
     "output_type": "execute_result"
    },
    {
     "data": {
      "image/png": "[encoded data removed]",
      "text/plain": [
       "<Figure size 432x288 with 1 Axes>"
      ]
     },
     "metadata": {
      "needs_background": "light"
     },
     "output_type": "display_data"
    }
   ],
   "source": [
    "# plot the transformed result: the monotonic variable\n",
    "fig = plt.figure()\n",
    "temp_train = pd.concat([X_train, y_train], axis = 1)\n",
    "fig = temp_train.groupby(['negativereason_random'])['airline_sentiment'].mean().plot()\n",
    "fig.set_title('Relationship between variable and target')\n",
    "fig.set_ylabel('airline_sentiment')"
   ]
  },
  {
   "cell_type": "code",
   "execution_count": 50,
   "metadata": {},
   "outputs": [],
   "source": [
    "for var in ['negativereason_random' ]:\n",
    "    labels_dict = {k:i for i, k in enumerate(X_train[var].unique(), 0)}\n",
    "    X_train.loc[:, var] = X_train.loc[:, var].map(labels_dict )\n",
    "    X_test.loc[:, var] = X_test.loc[:, var].map(labels_dict)"
   ]
  },
  {
   "cell_type": "code",
   "execution_count": 51,
   "metadata": {},
   "outputs": [
    {
     "data": {
      "text/plain": [
       "array([0, 1, 2, 3, 4, 5, 6, 7, 8, 9], dtype=int64)"
      ]
     },
     "execution_count": 51,
     "metadata": {},
     "output_type": "execute_result"
    }
   ],
   "source": [
    "X_train.negativereason_random.unique()"
   ]
  },
  {
   "cell_type": "code",
   "execution_count": 52,
   "metadata": {},
   "outputs": [],
   "source": [
    "# and now let's do the same but capturing the result in a dictionary\n",
    "temp_train = pd.concat([X_train, y_train], axis = 1)\n",
    "ordered_labels = temp_train.groupby(['negativereason_random'])['airline_sentiment'].mean().to_dict()\n",
    "X_train['negativereason_random'] = X_train['negativereason_random'].map(ordered_labels)\n",
    "X_test['negativereason_random'] = X_test['negativereason_random'].map(ordered_labels)"
   ]
  },
  {
   "cell_type": "code",
   "execution_count": 53,
   "metadata": {},
   "outputs": [
    {
     "data": {
      "text/plain": [
       "Text(0, 0.5, 'airline_sentiment')"
      ]
     },
     "execution_count": 53,
     "metadata": {},
     "output_type": "execute_result"
    },
    {
     "data": {
      "image/png": "[encoded data removed]",
      "text/plain": [
       "<Figure size 432x288 with 1 Axes>"
      ]
     },
     "metadata": {
      "needs_background": "light"
     },
     "output_type": "display_data"
    }
   ],
   "source": [
    "# plot the transformed result: the monotonic variable\n",
    "fig = plt.figure()\n",
    "temp_train = pd.concat([X_train, y_train], axis = 1)\n",
    "fig = temp_train.groupby(['negativereason_random'])['airline_sentiment'].mean().plot()\n",
    "fig.set_title('Relationship between variable and target')\n",
    "fig.set_ylabel('airline_sentiment')"
   ]
  },
  {
   "cell_type": "code",
   "execution_count": 54,
   "metadata": {},
   "outputs": [
    {
     "data": {
      "text/plain": [
       "Text(0, 0.5, 'airline_sentiment')"
      ]
     },
     "execution_count": 54,
     "metadata": {},
     "output_type": "execute_result"
    },
    {
     "data": {
      "image/png": "[encoded data removed]",
      "text/plain": [
       "<Figure size 432x288 with 1 Axes>"
      ]
     },
     "metadata": {
      "needs_background": "light"
     },
     "output_type": "display_data"
    }
   ],
   "source": [
    "# plot the transformed result: the monotonic variable\n",
    "fig = plt.figure()\n",
    "temp_train = pd.concat([X_train, y_train], axis = 1)\n",
    "fig = temp_train.groupby(['negativereason'])['airline_sentiment'].mean().plot()\n",
    "fig.set_title('Relationship between variable and target')\n",
    "fig.set_ylabel('airline_sentiment')"
   ]
  },
  {
   "cell_type": "code",
   "execution_count": 55,
   "metadata": {},
   "outputs": [
    {
     "data": {
      "text/html": [
       "<div>\n",
       "<style scoped>\n",
       "    .dataframe tbody tr th:only-of-type {\n",
       "        vertical-align: middle;\n",
       "    }\n",
       "\n",
       "    .dataframe tbody tr th {\n",
       "        vertical-align: top;\n",
       "    }\n",
       "\n",
       "    .dataframe thead th {\n",
       "        text-align: right;\n",
       "    }\n",
       "</style>\n",
       "<table border=\"1\" class=\"dataframe\">\n",
       "  <thead>\n",
       "    <tr style=\"text-align: right;\">\n",
       "      <th></th>\n",
       "      <th>negativereason_random</th>\n",
       "      <th>negativereason</th>\n",
       "    </tr>\n",
       "    <tr>\n",
       "      <th>airline_sentiment</th>\n",
       "      <th></th>\n",
       "      <th></th>\n",
       "    </tr>\n",
       "  </thead>\n",
       "  <tbody>\n",
       "    <tr>\n",
       "      <th>-1</th>\n",
       "      <td>7308</td>\n",
       "      <td>7308</td>\n",
       "    </tr>\n",
       "    <tr>\n",
       "      <th>0</th>\n",
       "      <td>2485</td>\n",
       "      <td>0</td>\n",
       "    </tr>\n",
       "    <tr>\n",
       "      <th>1</th>\n",
       "      <td>1919</td>\n",
       "      <td>0</td>\n",
       "    </tr>\n",
       "  </tbody>\n",
       "</table>\n",
       "</div>"
      ],
      "text/plain": [
       "                   negativereason_random  negativereason\n",
       "airline_sentiment                                       \n",
       "-1                                  7308            7308\n",
       " 0                                  2485               0\n",
       " 1                                  1919               0"
      ]
     },
     "execution_count": 55,
     "metadata": {},
     "output_type": "execute_result"
    }
   ],
   "source": [
    "#random sampling assigned more values to of negative reason do positive and neutral sentiment which\n",
    "#weren't present in the training set before \n",
    "temp = pd.concat([X_train, y_train], axis=1)\n",
    "temp.groupby('airline_sentiment')['negativereason_random', 'negativereason'].count()"
   ]
  },
  {
   "cell_type": "code",
   "execution_count": 56,
   "metadata": {},
   "outputs": [
    {
     "data": {
      "text/plain": [
       "Index(['tweet_id', 'airline_sentiment_confidence', 'negativereason_confidence',\n",
       "       'airline', 'name', 'retweet_count', 'text',\n",
       "       'negativereason_confidence_NA', 'negativereason_confidence_disc',\n",
       "       'airline_sentiment_confidence_disc', 'negativereason_NA',\n",
       "       'negativereason_random'],\n",
       "      dtype='object')"
      ]
     },
     "execution_count": 56,
     "metadata": {},
     "output_type": "execute_result"
    }
   ],
   "source": [
    "X_train.drop(['negativereason'], axis = 1, inplace = True)\n",
    "X_test.drop(['negativereason'], axis = 1, inplace = True)\n",
    "\n",
    "#see the columns \n",
    "X_train.columns"
   ]
  },
  {
   "cell_type": "markdown",
   "metadata": {},
   "source": [
    "### Feature selection"
   ]
  },
  {
   "cell_type": "code",
   "execution_count": 57,
   "metadata": {},
   "outputs": [],
   "source": [
    "cat_vars = [\n",
    " 'airline_sentiment_confidence', #imputed with median\n",
    " 'negativereason_confidence',#imputed with median \n",
    " 'name',#count encoding \n",
    " 'retweet_count',#rare values engineering\n",
    " 'negativereason_confidence_NA',#binary variable which indicate the missingness \n",
    " 'negativereason_confidence_disc',#encoded equal width binned variable\n",
    " 'airline_sentiment_confidence_disc',#encoded equal width binned variable\n",
    " ]"
   ]
  },
  {
   "cell_type": "code",
   "execution_count": 58,
   "metadata": {},
   "outputs": [
    {
     "data": {
      "text/plain": [
       "(array([  28.45762691,  244.24498083,  906.71778798,   63.17814447,\n",
       "        5652.06241195,  220.89326637,  167.83934592]),\n",
       " array([6.61461899e-007, 9.18071059e-054, 1.28449973e-197, 1.91003023e-014,\n",
       "        0.00000000e+000, 1.08052959e-048, 3.58219407e-037]))"
      ]
     },
     "execution_count": 58,
     "metadata": {},
     "output_type": "execute_result"
    }
   ],
   "source": [
    "from sklearn.feature_selection import chi2\n",
    "f_score = chi2(X_train[cat_vars], y_train)\n",
    "f_score "
   ]
  },
  {
   "cell_type": "code",
   "execution_count": 59,
   "metadata": {},
   "outputs": [
    {
     "data": {
      "text/plain": [
       "airline_sentiment_confidence          6.614619e-07\n",
       "retweet_count                         1.910030e-14\n",
       "airline_sentiment_confidence_disc     3.582194e-37\n",
       "negativereason_confidence_disc        1.080530e-48\n",
       "negativereason_confidence             9.180711e-54\n",
       "name                                 1.284500e-197\n",
       "negativereason_confidence_NA          0.000000e+00\n",
       "dtype: float64"
      ]
     },
     "execution_count": 59,
     "metadata": {},
     "output_type": "execute_result"
    }
   ],
   "source": [
    "pvalues = pd.Series(f_score[1])\n",
    "pvalues.index = X_train[cat_vars].columns \n",
    "pvalues.sort_values(ascending = False)"
   ]
  },
  {
   "cell_type": "markdown",
   "metadata": {},
   "source": [
    "All categorical variables have the ultra tiny p_values and they look as they would be highly predictive. Maybe this indicates that the dataset contains too many sapmple. While bulding the pipeline I will try to penelize logistic regression this will help me to shrinkage the coefficients which are smalll or equal to zero."
   ]
  },
  {
   "cell_type": "markdown",
   "metadata": {},
   "source": [
    "### Text\n",
    "\n",
    "The texts from twitter usually require lots of preprocessing steps. Below some examples:"
   ]
  },
  {
   "cell_type": "code",
   "execution_count": 60,
   "metadata": {},
   "outputs": [
    {
     "name": "stdout",
     "output_type": "stream",
     "text": [
      "@SouthwestAir thank you! ❤️❤️❤️ you guys!\n",
      "@JetBlue Even though this flight #226 didn't have much needed hot beverages 4 us NY-ers, the landing was super smooth 👍👍 😊 #happytweet\n",
      "@AmericanAir 2284, four hours Late Flightrs and we are finally flying out...too bad I missed my event\n",
      "@SouthwestAir Awwweesssooomee!\n"
     ]
    }
   ],
   "source": [
    "#example of tweets which need to be preprocessed \n",
    "print(X_train.loc[5874, 'text'])#removing emoji, punctuation, @mentions words\n",
    "print(X_train.loc[7877, 'text'])#removing hashtags and @mentions words\n",
    "print(X_train.loc[12556, 'text'])#spelling correction\n",
    "print(X_train.loc[6516, 'text'])#removing repeating characters"
   ]
  },
  {
   "cell_type": "markdown",
   "metadata": {},
   "source": [
    "There are also abbreviation forms which should be preprocessed as well as the words with repeating characters such as 'Awwweesssooomee'. I will focus only on extracting the hashtags and @mentions words, removing the most frequent and rare words, removing stop words, spelling corection, removing the emoji and punctuation, lemmatization of text."
   ]
  },
  {
   "cell_type": "markdown",
   "metadata": {},
   "source": [
    "##### Basic preprocessing"
   ]
  },
  {
   "cell_type": "code",
   "execution_count": 61,
   "metadata": {},
   "outputs": [
    {
     "name": "stdout",
     "output_type": "stream",
     "text": [
      "@southwestair thank you! ❤️❤️❤️ you guys!\n",
      "@jetblue even though this flight #226 didn't have much needed hot beverages 4 us ny-ers, the landing was super smooth 👍👍 😊 #happytweet\n",
      "@americanair 2284, four hours late flightrs and we are finally flying out...too bad i missed my event\n"
     ]
    }
   ],
   "source": [
    "#The first pre-processing step which we will do is transform our tweets into lower case. \n",
    "#This avoids having multiple copies of the same words\n",
    "X_train['text'] = X_train['text'].apply(lambda x: \" \".join(x.lower() for x in x.split()))\n",
    "X_test['text'] = X_test['text'].apply(lambda x: \" \".join(x.lower() for x in x.split()))\n",
    "print(X_train.loc[5874, 'text'])\n",
    "print(X_train.loc[7877, 'text'])\n",
    "print(X_train.loc[12556, 'text'])"
   ]
  },
  {
   "cell_type": "markdown",
   "metadata": {},
   "source": [
    "###### removal of all words with hashtags from the tweets"
   ]
  },
  {
   "cell_type": "code",
   "execution_count": 62,
   "metadata": {},
   "outputs": [
    {
     "data": {
      "text/plain": [
       "['#fabulous',\n",
       " '#Seductive',\n",
       " '#stress',\n",
       " '#29DaysToGo',\n",
       " '#fail',\n",
       " '#VX358',\n",
       " '#noair',\n",
       " '#worstflightever',\n",
       " '#roasted',\n",
       " '#SFOtoBOS']"
      ]
     },
     "execution_count": 62,
     "metadata": {},
     "output_type": "execute_result"
    }
   ],
   "source": [
    "#getting all words with hashtags in the text. By doing that I want to remove a noise from my model\n",
    "hashtags=[]\n",
    "for row in data.text:\n",
    "    for i in row.split():\n",
    "        if i.startswith(\"#\"):\n",
    "            hashtags.append(i)\n",
    "len(set(hashtags))        \n",
    "\n",
    "hashtags[:10]"
   ]
  },
  {
   "cell_type": "code",
   "execution_count": 63,
   "metadata": {},
   "outputs": [],
   "source": [
    "#I will remove the words with hashtags from text. I am aware that I could add an extra column with extracted features and\n",
    "#see if they are redundant (a columns with airline)\n",
    "X_train['text'] = X_train['text'].apply(lambda x: \" \".join(x for x in x.split() if x not in hashtags))\n",
    "X_test['text'] = X_test['text'].apply(lambda x: \" \".join(x for x in x.split() if x not in hashtags))"
   ]
  },
  {
   "cell_type": "code",
   "execution_count": 64,
   "metadata": {},
   "outputs": [
    {
     "name": "stdout",
     "output_type": "stream",
     "text": [
      "@southwestair thank you! ❤️❤️❤️ you guys!\n",
      "@jetblue even though this flight didn't have much needed hot beverages 4 us ny-ers, the landing was super smooth 👍👍 😊\n",
      "@americanair 2284, four hours late flightrs and we are finally flying out...too bad i missed my event\n"
     ]
    }
   ],
   "source": [
    "print(X_train.loc[5874, 'text'])\n",
    "print(X_train.loc[7877, 'text'])\n",
    "print(X_train.loc[12556, 'text'])"
   ]
  },
  {
   "cell_type": "markdown",
   "metadata": {},
   "source": [
    "###### removing all @Mentions words"
   ]
  },
  {
   "cell_type": "code",
   "execution_count": 65,
   "metadata": {},
   "outputs": [
    {
     "name": "stdout",
     "output_type": "stream",
     "text": [
      "1006\n"
     ]
    }
   ],
   "source": [
    "#getting all words starting with @\n",
    "names=[]\n",
    "for row in data.text:\n",
    "    for i in row.split():\n",
    "        if i.startswith(\"@\"):\n",
    "            names.append(i)\n",
    "            \n",
    "print(len(set(names)))"
   ]
  },
  {
   "cell_type": "code",
   "execution_count": 66,
   "metadata": {},
   "outputs": [
    {
     "data": {
      "text/plain": [
       "['@VirginAmerica', '@dhepburn', '@VirginAmerica', '@VirginAmerica']"
      ]
     },
     "execution_count": 66,
     "metadata": {},
     "output_type": "execute_result"
    }
   ],
   "source": [
    "names[:4]"
   ]
  },
  {
   "cell_type": "code",
   "execution_count": 67,
   "metadata": {},
   "outputs": [
    {
     "name": "stdout",
     "output_type": "stream",
     "text": [
      "thank you! ❤️❤️❤️ you guys!\n",
      "even though this flight didn't have much needed hot beverages 4 us ny-ers, the landing was super smooth 👍👍 😊\n",
      "2284, four hours late flightrs and we are finally flying out...too bad i missed my event\n"
     ]
    }
   ],
   "source": [
    "X_train['text'] = X_train['text'].apply(lambda x: \" \".join(x for x in x.split() if x not in names))\n",
    "X_test['text'] = X_test['text'].apply(lambda x: \" \".join(x for x in x.split() if x not in names))\n",
    "print(X_train.loc[5874, 'text'])\n",
    "print(X_train.loc[7877, 'text'])\n",
    "print(X_train.loc[12556, 'text'])"
   ]
  },
  {
   "cell_type": "markdown",
   "metadata": {},
   "source": [
    "###### removing punctuation and emoji"
   ]
  },
  {
   "cell_type": "code",
   "execution_count": 68,
   "metadata": {},
   "outputs": [
    {
     "name": "stdout",
     "output_type": "stream",
     "text": [
      "thank you         you guys \n",
      "even though this flight didn t have much needed hot beverages 4 us ny ers  the landing was super smooth     \n",
      "2284  four hours late flightrs and we are finally flying out   too bad i missed my event\n"
     ]
    }
   ],
   "source": [
    "#removing punctuation and emoji\n",
    "#The next step is to remove punctuation, as it doesn’t add any extra information while treating text data. \n",
    "#Therefore removing all instances of it will help us reduce the size of the training data.\n",
    "\n",
    "X_train['text'] = X_train['text'].str.replace('[^\\w\\s]',' ')\n",
    "X_test['text'] = X_test['text'].str.replace('[^\\w\\s]',' ')\n",
    "print(X_train.loc[5874, 'text'])\n",
    "print(X_train.loc[7877, 'text'])\n",
    "print(X_train.loc[12556, 'text'])"
   ]
  },
  {
   "cell_type": "markdown",
   "metadata": {},
   "source": [
    "###### removing the names of the users from tweets"
   ]
  },
  {
   "cell_type": "code",
   "execution_count": 69,
   "metadata": {},
   "outputs": [],
   "source": [
    "names = data.name.unique().tolist()"
   ]
  },
  {
   "cell_type": "code",
   "execution_count": 70,
   "metadata": {},
   "outputs": [],
   "source": [
    "X_train['text'] = X_train['text'].apply(lambda x: \" \".join(x for x in x.split() if x not in names))\n",
    "X_test['text'] = X_test['text'].apply(lambda x: \" \".join(x for x in x.split() if x not in names))"
   ]
  },
  {
   "cell_type": "markdown",
   "metadata": {},
   "source": [
    "###### removing stop words"
   ]
  },
  {
   "cell_type": "code",
   "execution_count": 71,
   "metadata": {},
   "outputs": [
    {
     "name": "stdout",
     "output_type": "stream",
     "text": [
      "thank guys\n",
      "even though flight much needed hot beverages 4 us ny ers landing super smooth\n",
      "2284 four hours late flightrs finally flying bad missed event\n"
     ]
    }
   ],
   "source": [
    "#removing stop words (or commonly occurring words) again after rowing punctuation\n",
    "\n",
    "from nltk.corpus import stopwords\n",
    "stop = stopwords.words('english')\n",
    "stop.extend(['http', 'could', 'would', 'ref'])\n",
    "X_train['text'] = X_train['text'].apply(lambda x: \" \".join(x for x in x.split() if x not in stop))\n",
    "X_test['text'] = X_test['text'].apply(lambda x: \" \".join(x for x in x.split() if x not in stop))\n",
    "print(X_train.loc[5874, 'text'])\n",
    "print(X_train.loc[7877, 'text'])\n",
    "print(X_train.loc[12556, 'text'])"
   ]
  },
  {
   "cell_type": "code",
   "execution_count": 72,
   "metadata": {},
   "outputs": [
    {
     "name": "stdout",
     "output_type": "stream",
     "text": [
      "[\"you've\", \"you'll\", \"you'd\", 'your', 'yours', 'yourself', 'yourselves', 'he', 'him', 'his', 'himself', 'she', \"she's\", 'her', 'hers', 'herself', 'it', \"it's\", 'its', 'itself', 'they', 'them', 'their', 'theirs', 'themselves', 'what', 'which', 'who', 'whom', 'this', 'that', \"that'll\", 'these', 'those', 'am', 'is', 'are', 'was', 'were', 'be', 'been', 'being', 'have', 'has', 'had', 'having', 'do', 'does', 'did', 'doing', 'a', 'an', 'the', 'and', 'but', 'if', 'or', 'because', 'as', 'until', 'while', 'of', 'at', 'by', 'for', 'with', 'about', 'against', 'between', 'into', 'through', 'during', 'before', 'after', 'above', 'below', 'to', 'from', 'up', 'down', 'in', 'out', 'on', 'off', 'over', 'under', 'again', 'further', 'then', 'once', 'here', 'there', 'when', 'where', 'why', 'how', 'all', 'any', 'both', 'each', 'few', 'more', 'most', 'other', 'some', 'such', 'no', 'nor', 'not', 'only', 'own', 'same', 'so', 'than', 'too', 'very', 's', 't', 'can', 'will', 'just', 'don', \"don't\", 'should', \"should've\", 'now', 'd', 'll', 'm', 'o', 're', 've', 'y', 'ain', 'aren', \"aren't\", 'couldn', \"couldn't\", 'didn', \"didn't\", 'doesn', \"doesn't\", 'hadn', \"hadn't\", 'hasn', \"hasn't\", 'haven', \"haven't\", 'isn', \"isn't\", 'ma', 'mightn', \"mightn't\", 'mustn', \"mustn't\", 'needn', \"needn't\", 'shan', \"shan't\", 'shouldn', \"shouldn't\", 'wasn', \"wasn't\", 'weren', \"weren't\", 'won', \"won't\", 'wouldn', \"wouldn't\", 'http', 'could', 'would', 'ref']\n"
     ]
    }
   ],
   "source": [
    "#getting the first 10 elements of the stopwords\n",
    "print(stop[10:])"
   ]
  },
  {
   "cell_type": "markdown",
   "metadata": {},
   "source": [
    "###### Spelling correction"
   ]
  },
  {
   "cell_type": "code",
   "execution_count": 114,
   "metadata": {},
   "outputs": [
    {
     "name": "stdout",
     "output_type": "stream",
     "text": [
      "dfwairport\n",
      "lighted\n",
      "or\n",
      "2284 four hour late flights finally flying bad missed event\n"
     ]
    }
   ],
   "source": [
    "#We’ve all seen tweets with a plethora of spelling mistakes. They are often filled \n",
    "#with hastly sent tweets that are barely legible at times. In that regard, spelling correction is \n",
    "#a useful pre-processing step because this also will help us in reducing multiple copies of words. \n",
    "\n",
    "#One of the helpfull libraries which helps in spelling correction is textblob. \n",
    "\n",
    "from textblob import TextBlob\n",
    "text = TextBlob('dfwairport')\n",
    "print(text.correct())\n",
    "\n",
    "text = TextBlob('flightled')\n",
    "print(text.correct())\n",
    "\n",
    "text = TextBlob('ur')\n",
    "print(text.correct())\n",
    "\n",
    "text = TextBlob('2284 four hour late flightrs finally flying bad missed event')\n",
    "print(text.correct())"
   ]
  },
  {
   "cell_type": "markdown",
   "metadata": {},
   "source": [
    "In some cases the Textblob corrects the words in the right way fligtrs -> flights. It also didn't changed the meaning of the word 'dfwairport', which is also good\n",
    "But 'flightled' was changed to 'lighted' and this is not correct.\n",
    "\n",
    "Except for spelling error my text also contains lots of abbreviations. For example 'ur' stands for 'your' which corrected by TextBlob and changed to 'our'. I decided to correct manually the most occuring words and don't use the Text Blob for now."
   ]
  },
  {
   "cell_type": "code",
   "execution_count": 74,
   "metadata": {},
   "outputs": [],
   "source": [
    "for word in ['flightr', 'flightrs', 'reflight', 'flighted', 'flightlations', 'flightlation', 'flighting', 'flightled', 'flights']:\n",
    "    X_train['text'] = X_train['text'].str.replace(word, 'flight')\n",
    "    X_test['text'] = X_test['text'].str.replace(word, 'flight')"
   ]
  },
  {
   "cell_type": "code",
   "execution_count": 75,
   "metadata": {},
   "outputs": [
    {
     "name": "stdout",
     "output_type": "stream",
     "text": [
      "thank guys\n",
      "even though flight much needed hot beverages 4 us ny ers landing super smooth\n",
      "2284 four hours late flight finally flying bad missed event\n"
     ]
    }
   ],
   "source": [
    "print(X_train.loc[5874, 'text'])\n",
    "print(X_train.loc[7877, 'text'])\n",
    "print(X_train.loc[12556, 'text'])"
   ]
  },
  {
   "cell_type": "markdown",
   "metadata": {},
   "source": [
    "###### removing the common words"
   ]
  },
  {
   "cell_type": "code",
   "execution_count": 76,
   "metadata": {},
   "outputs": [
    {
     "data": {
      "text/plain": [
       "flight    4474\n",
       "dtype: int64"
      ]
     },
     "execution_count": 76,
     "metadata": {},
     "output_type": "execute_result"
    }
   ],
   "source": [
    "#let’s check the 10 most frequently occurring words in our text data then take call \n",
    "#to remove or retain.\n",
    "freq = pd.Series(' '.join(X_train['text']).split()).value_counts()[:1]\n",
    "freq"
   ]
  },
  {
   "cell_type": "code",
   "execution_count": 77,
   "metadata": {},
   "outputs": [
    {
     "name": "stdout",
     "output_type": "stream",
     "text": [
      "thank guys\n",
      "even though much needed hot beverages 4 us ny ers landing super smooth\n",
      "2284 four hours late finally flying bad missed event\n"
     ]
    }
   ],
   "source": [
    "#\n",
    "#freq = list(freq.index)\n",
    "X_train['text'] = X_train['text'].apply(lambda x: \" \".join(x for x in x.split() if x not in freq))\n",
    "X_test['text'] = X_test['text'].apply(lambda x: \" \".join(x for x in x.split() if x not in freq))\n",
    "print(X_train.loc[5874, 'text'])\n",
    "print(X_train.loc[7877, 'text'])\n",
    "print(X_train.loc[12556, 'text'])"
   ]
  },
  {
   "cell_type": "markdown",
   "metadata": {},
   "source": [
    "###### Rare words removal"
   ]
  },
  {
   "cell_type": "code",
   "execution_count": 78,
   "metadata": {},
   "outputs": [
    {
     "data": {
      "text/plain": [
       "petty            1\n",
       "realistically    1\n",
       "srm13qbrzd       1\n",
       "otfz7cyguq       1\n",
       "mojave           1\n",
       "lining           1\n",
       "relay            1\n",
       "2spooky          1\n",
       "gth239           1\n",
       "oylgeao7y8       1\n",
       "dtype: int64"
      ]
     },
     "execution_count": 78,
     "metadata": {},
     "output_type": "execute_result"
    }
   ],
   "source": [
    "#Similarly, just as we removed the most common words, this time let’s remove rarely occurring \n",
    "#words from the text. Because they’re so rare, the association between them and \n",
    "#other words is dominated by noise\n",
    "# I will remove the rare words after lemmatizing the text\n",
    "\n",
    "freq = pd.Series(' '.join(X_train['text']).split()).value_counts()[-100:]\n",
    "freq[:10]"
   ]
  },
  {
   "cell_type": "markdown",
   "metadata": {},
   "source": [
    "##### Lemmatization"
   ]
  },
  {
   "cell_type": "code",
   "execution_count": 79,
   "metadata": {},
   "outputs": [],
   "source": [
    "# Lemmatization is a more effective option than stemming because it converts the word into its root word, \n",
    "# rather than just stripping the suffices. It makes use of the vocabulary and does a morphological analysis \n",
    "# to obtain the root word.\n",
    "\n",
    "#For example, runs, running, ran are all forms of the word run, therefore run is \n",
    "#the lemma of all these words. Because lemmatization returns an actual word of the language, \n",
    "#it is used where it is necessary to get valid words."
   ]
  },
  {
   "cell_type": "code",
   "execution_count": 80,
   "metadata": {},
   "outputs": [],
   "source": [
    "def stem_lem_text(s, type='Lancaster'):\n",
    "    words = s.split()\n",
    "    \n",
    "    if type == 'Porter':\n",
    "        choice = PorterStemmer()\n",
    "        reformed = [choice.stem(word) for word in words]\n",
    "    elif type == 'Snowball':\n",
    "        choice = SnowballStemmer('english')\n",
    "        reformed = [choice.stem(word) for word in words]\n",
    "    elif type == 'Lemmatize':\n",
    "        choice = WordNetLemmatizer()\n",
    "        reformed = [choice.lemmatize(word) for word in words]\n",
    "    else:\n",
    "        choice = LancasterStemmer()\n",
    "        reformed = [choice.stem(word) for word in words]\n",
    "        \n",
    "    reformed = \" \".join(reformed)\n",
    "    return reformed"
   ]
  },
  {
   "cell_type": "code",
   "execution_count": 81,
   "metadata": {},
   "outputs": [],
   "source": [
    "X_train.text = X_train.text.apply(stem_lem_text, type='Lemmatize')\n",
    "X_test.text = X_test.text.apply(stem_lem_text, type='Lemmatize')"
   ]
  },
  {
   "cell_type": "code",
   "execution_count": 82,
   "metadata": {},
   "outputs": [
    {
     "name": "stdout",
     "output_type": "stream",
     "text": [
      "thank guy\n",
      "even though much needed hot beverage 4 u ny er landing super smooth\n",
      "2284 four hour late finally flying bad missed event\n"
     ]
    }
   ],
   "source": [
    "print(X_train.loc[5874, 'text'])\n",
    "print(X_train.loc[7877, 'text'])\n",
    "print(X_train.loc[12556, 'text'])"
   ]
  },
  {
   "cell_type": "markdown",
   "metadata": {},
   "source": [
    "###### Rare words removal"
   ]
  },
  {
   "cell_type": "code",
   "execution_count": 83,
   "metadata": {},
   "outputs": [
    {
     "data": {
      "text/plain": [
       "7c               1\n",
       "tonne            1\n",
       "8uxzj2           1\n",
       "multinational    1\n",
       "ourguest         1\n",
       "combat           1\n",
       "cehroeurc5       1\n",
       "illiterate       1\n",
       "15yr             1\n",
       "kindly           1\n",
       "dtype: int64"
      ]
     },
     "execution_count": 83,
     "metadata": {},
     "output_type": "execute_result"
    }
   ],
   "source": [
    "#Similarly, just as we removed the most common words, this time let’s remove rarely occurring \n",
    "#words from the text. Because they’re so rare, the association between them and \n",
    "#other words is dominated by noise\n",
    "freq = pd.Series(' '.join(X_train['text']).split()).value_counts()[-300:]\n",
    "freq[:10]"
   ]
  },
  {
   "cell_type": "code",
   "execution_count": 84,
   "metadata": {},
   "outputs": [
    {
     "name": "stdout",
     "output_type": "stream",
     "text": [
      "thank guy\n",
      "even though much needed hot beverage 4 u ny er landing super smooth\n",
      "2284 four hour late finally flying bad missed event\n"
     ]
    }
   ],
   "source": [
    "X_train['text'] = X_train['text'].apply(lambda x: \" \".join(x for x in x.split() if x not in freq))\n",
    "X_test['text'] = X_test['text'].apply(lambda x: \" \".join(x for x in x.split() if x not in freq))\n",
    "print(X_train.loc[5874, 'text'])\n",
    "print(X_train.loc[7877, 'text'])\n",
    "print(X_train.loc[12556, 'text'])"
   ]
  },
  {
   "cell_type": "code",
   "execution_count": 85,
   "metadata": {},
   "outputs": [
    {
     "data": {
      "text/plain": [
       "[WordList(['know', 'suicide']),\n",
       " WordList(['suicide', 'second']),\n",
       " WordList(['second', 'leading']),\n",
       " WordList(['leading', 'cause']),\n",
       " WordList(['cause', 'death']),\n",
       " WordList(['death', 'among']),\n",
       " WordList(['among', 'teen']),\n",
       " WordList(['teen', '10']),\n",
       " WordList(['10', '24'])]"
      ]
     },
     "execution_count": 85,
     "metadata": {},
     "output_type": "execute_result"
    }
   ],
   "source": [
    "#N-grams\n",
    "#The basic principle behind n-grams is that they capture the language structure, \n",
    "#like what letter or word is likely to follow the given one. The longer the n-gram \n",
    "#(the higher the n), the more context you have to work with. Optimum length really \n",
    "#depends on the application – if your n-grams are too short, you may fail to capture \n",
    "#important differences. \n",
    "TextBlob(X_train['text'][10]).ngrams(2)"
   ]
  },
  {
   "cell_type": "markdown",
   "metadata": {},
   "source": [
    "##### Term frequency"
   ]
  },
  {
   "cell_type": "code",
   "execution_count": 86,
   "metadata": {},
   "outputs": [
    {
     "data": {
      "text/html": [
       "<div>\n",
       "<style scoped>\n",
       "    .dataframe tbody tr th:only-of-type {\n",
       "        vertical-align: middle;\n",
       "    }\n",
       "\n",
       "    .dataframe tbody tr th {\n",
       "        vertical-align: top;\n",
       "    }\n",
       "\n",
       "    .dataframe thead th {\n",
       "        text-align: right;\n",
       "    }\n",
       "</style>\n",
       "<table border=\"1\" class=\"dataframe\">\n",
       "  <thead>\n",
       "    <tr style=\"text-align: right;\">\n",
       "      <th></th>\n",
       "      <th>words</th>\n",
       "      <th>tf</th>\n",
       "    </tr>\n",
       "  </thead>\n",
       "  <tbody>\n",
       "    <tr>\n",
       "      <th>0</th>\n",
       "      <td>yes</td>\n",
       "      <td>1</td>\n",
       "    </tr>\n",
       "    <tr>\n",
       "      <th>1</th>\n",
       "      <td>unsure</td>\n",
       "      <td>1</td>\n",
       "    </tr>\n",
       "    <tr>\n",
       "      <th>2</th>\n",
       "      <td>amp</td>\n",
       "      <td>1</td>\n",
       "    </tr>\n",
       "    <tr>\n",
       "      <th>3</th>\n",
       "      <td>come</td>\n",
       "      <td>1</td>\n",
       "    </tr>\n",
       "    <tr>\n",
       "      <th>4</th>\n",
       "      <td>airline</td>\n",
       "      <td>1</td>\n",
       "    </tr>\n",
       "    <tr>\n",
       "      <th>5</th>\n",
       "      <td>never</td>\n",
       "      <td>1</td>\n",
       "    </tr>\n",
       "    <tr>\n",
       "      <th>6</th>\n",
       "      <td>time</td>\n",
       "      <td>1</td>\n",
       "    </tr>\n",
       "    <tr>\n",
       "      <th>7</th>\n",
       "      <td>happened</td>\n",
       "      <td>1</td>\n",
       "    </tr>\n",
       "    <tr>\n",
       "      <th>8</th>\n",
       "      <td>first</td>\n",
       "      <td>1</td>\n",
       "    </tr>\n",
       "  </tbody>\n",
       "</table>\n",
       "</div>"
      ],
      "text/plain": [
       "      words  tf\n",
       "0       yes   1\n",
       "1    unsure   1\n",
       "2       amp   1\n",
       "3      come   1\n",
       "4   airline   1\n",
       "5     never   1\n",
       "6      time   1\n",
       "7  happened   1\n",
       "8     first   1"
      ]
     },
     "execution_count": 86,
     "metadata": {},
     "output_type": "execute_result"
    }
   ],
   "source": [
    "# Term frequency is simply the ratio of the count of a word present in a sentence, \n",
    "# to the length of the sentence.\n",
    "#Therefore, we can generalize term frequency as:\n",
    "#TF = (Number of times term T appears in the particular row) / (number of terms in that row\n",
    "tf1 = (X_train['text'][1:2]).apply(lambda x: pd.value_counts(x.split(\" \"))).sum(axis = 0).reset_index()\n",
    "tf1.columns = ['words','tf']\n",
    "tf1"
   ]
  },
  {
   "cell_type": "markdown",
   "metadata": {},
   "source": [
    "##### Inverse Document Frequency"
   ]
  },
  {
   "cell_type": "markdown",
   "metadata": {},
   "source": [
    "The intuition behind inverse document frequency (IDF) is that a word is not of much use to us if it’s appearing in all the documents. Therefore, the IDF of each word is the log of the ratio of the total number of rows to the number of rows in which that word is present.\n",
    "\n",
    "IDF = log(N/n), where, N is the total number of rows and n is the number of rows in which the word was present.\n",
    "\n",
    "So, let’s calculate IDF for the same tweets for which we calculated the term frequency."
   ]
  },
  {
   "cell_type": "code",
   "execution_count": 87,
   "metadata": {},
   "outputs": [
    {
     "data": {
      "text/html": [
       "<div>\n",
       "<style scoped>\n",
       "    .dataframe tbody tr th:only-of-type {\n",
       "        vertical-align: middle;\n",
       "    }\n",
       "\n",
       "    .dataframe tbody tr th {\n",
       "        vertical-align: top;\n",
       "    }\n",
       "\n",
       "    .dataframe thead th {\n",
       "        text-align: right;\n",
       "    }\n",
       "</style>\n",
       "<table border=\"1\" class=\"dataframe\">\n",
       "  <thead>\n",
       "    <tr style=\"text-align: right;\">\n",
       "      <th></th>\n",
       "      <th>words</th>\n",
       "      <th>tf</th>\n",
       "      <th>idf</th>\n",
       "    </tr>\n",
       "  </thead>\n",
       "  <tbody>\n",
       "    <tr>\n",
       "      <th>0</th>\n",
       "      <td>yes</td>\n",
       "      <td>1</td>\n",
       "      <td>3.698488</td>\n",
       "    </tr>\n",
       "    <tr>\n",
       "      <th>1</th>\n",
       "      <td>unsure</td>\n",
       "      <td>1</td>\n",
       "      <td>8.675222</td>\n",
       "    </tr>\n",
       "    <tr>\n",
       "      <th>2</th>\n",
       "      <td>amp</td>\n",
       "      <td>1</td>\n",
       "      <td>3.073103</td>\n",
       "    </tr>\n",
       "    <tr>\n",
       "      <th>3</th>\n",
       "      <td>come</td>\n",
       "      <td>1</td>\n",
       "      <td>4.478020</td>\n",
       "    </tr>\n",
       "    <tr>\n",
       "      <th>4</th>\n",
       "      <td>airline</td>\n",
       "      <td>1</td>\n",
       "      <td>3.250272</td>\n",
       "    </tr>\n",
       "    <tr>\n",
       "      <th>5</th>\n",
       "      <td>never</td>\n",
       "      <td>1</td>\n",
       "      <td>3.803849</td>\n",
       "    </tr>\n",
       "    <tr>\n",
       "      <th>6</th>\n",
       "      <td>time</td>\n",
       "      <td>1</td>\n",
       "      <td>2.737686</td>\n",
       "    </tr>\n",
       "    <tr>\n",
       "      <th>7</th>\n",
       "      <td>happened</td>\n",
       "      <td>1</td>\n",
       "      <td>5.518222</td>\n",
       "    </tr>\n",
       "    <tr>\n",
       "      <th>8</th>\n",
       "      <td>first</td>\n",
       "      <td>1</td>\n",
       "      <td>4.002393</td>\n",
       "    </tr>\n",
       "  </tbody>\n",
       "</table>\n",
       "</div>"
      ],
      "text/plain": [
       "      words  tf       idf\n",
       "0       yes   1  3.698488\n",
       "1    unsure   1  8.675222\n",
       "2       amp   1  3.073103\n",
       "3      come   1  4.478020\n",
       "4   airline   1  3.250272\n",
       "5     never   1  3.803849\n",
       "6      time   1  2.737686\n",
       "7  happened   1  5.518222\n",
       "8     first   1  4.002393"
      ]
     },
     "execution_count": 87,
     "metadata": {},
     "output_type": "execute_result"
    }
   ],
   "source": [
    "for i,word in enumerate(tf1['words']):\n",
    "    tf1.loc[i, 'idf'] = np.log(X_train.shape[0]/(len(X_train[X_train['text'].str.contains(word)])))\n",
    "\n",
    "tf1"
   ]
  },
  {
   "cell_type": "markdown",
   "metadata": {},
   "source": [
    "The more the value of IDF, the more unique is the word."
   ]
  },
  {
   "cell_type": "markdown",
   "metadata": {},
   "source": [
    "##### Term Frequency – Inverse Document Frequency (TF-IDF)\n",
    "TF-IDF is the multiplication of the TF and IDF which we calculated above."
   ]
  },
  {
   "cell_type": "code",
   "execution_count": 88,
   "metadata": {},
   "outputs": [
    {
     "data": {
      "text/html": [
       "<div>\n",
       "<style scoped>\n",
       "    .dataframe tbody tr th:only-of-type {\n",
       "        vertical-align: middle;\n",
       "    }\n",
       "\n",
       "    .dataframe tbody tr th {\n",
       "        vertical-align: top;\n",
       "    }\n",
       "\n",
       "    .dataframe thead th {\n",
       "        text-align: right;\n",
       "    }\n",
       "</style>\n",
       "<table border=\"1\" class=\"dataframe\">\n",
       "  <thead>\n",
       "    <tr style=\"text-align: right;\">\n",
       "      <th></th>\n",
       "      <th>words</th>\n",
       "      <th>tf</th>\n",
       "      <th>idf</th>\n",
       "      <th>tfidf</th>\n",
       "    </tr>\n",
       "  </thead>\n",
       "  <tbody>\n",
       "    <tr>\n",
       "      <th>0</th>\n",
       "      <td>yes</td>\n",
       "      <td>1</td>\n",
       "      <td>3.698488</td>\n",
       "      <td>3.698488</td>\n",
       "    </tr>\n",
       "    <tr>\n",
       "      <th>1</th>\n",
       "      <td>unsure</td>\n",
       "      <td>1</td>\n",
       "      <td>8.675222</td>\n",
       "      <td>8.675222</td>\n",
       "    </tr>\n",
       "    <tr>\n",
       "      <th>2</th>\n",
       "      <td>amp</td>\n",
       "      <td>1</td>\n",
       "      <td>3.073103</td>\n",
       "      <td>3.073103</td>\n",
       "    </tr>\n",
       "    <tr>\n",
       "      <th>3</th>\n",
       "      <td>come</td>\n",
       "      <td>1</td>\n",
       "      <td>4.478020</td>\n",
       "      <td>4.478020</td>\n",
       "    </tr>\n",
       "    <tr>\n",
       "      <th>4</th>\n",
       "      <td>airline</td>\n",
       "      <td>1</td>\n",
       "      <td>3.250272</td>\n",
       "      <td>3.250272</td>\n",
       "    </tr>\n",
       "    <tr>\n",
       "      <th>5</th>\n",
       "      <td>never</td>\n",
       "      <td>1</td>\n",
       "      <td>3.803849</td>\n",
       "      <td>3.803849</td>\n",
       "    </tr>\n",
       "    <tr>\n",
       "      <th>6</th>\n",
       "      <td>time</td>\n",
       "      <td>1</td>\n",
       "      <td>2.737686</td>\n",
       "      <td>2.737686</td>\n",
       "    </tr>\n",
       "    <tr>\n",
       "      <th>7</th>\n",
       "      <td>happened</td>\n",
       "      <td>1</td>\n",
       "      <td>5.518222</td>\n",
       "      <td>5.518222</td>\n",
       "    </tr>\n",
       "    <tr>\n",
       "      <th>8</th>\n",
       "      <td>first</td>\n",
       "      <td>1</td>\n",
       "      <td>4.002393</td>\n",
       "      <td>4.002393</td>\n",
       "    </tr>\n",
       "  </tbody>\n",
       "</table>\n",
       "</div>"
      ],
      "text/plain": [
       "      words  tf       idf     tfidf\n",
       "0       yes   1  3.698488  3.698488\n",
       "1    unsure   1  8.675222  8.675222\n",
       "2       amp   1  3.073103  3.073103\n",
       "3      come   1  4.478020  4.478020\n",
       "4   airline   1  3.250272  3.250272\n",
       "5     never   1  3.803849  3.803849\n",
       "6      time   1  2.737686  2.737686\n",
       "7  happened   1  5.518222  5.518222\n",
       "8     first   1  4.002393  4.002393"
      ]
     },
     "execution_count": 88,
     "metadata": {},
     "output_type": "execute_result"
    }
   ],
   "source": [
    "tf1['tfidf'] = tf1['tf'] * tf1['idf']\n",
    "tf1"
   ]
  },
  {
   "cell_type": "markdown",
   "metadata": {},
   "source": [
    "We can see that the TF-IDF has penalized words which are commonly occurring words. However, it has given a high weight to “thanks” and \"hour\" and \"cancelled\" since that will be very useful in determining the sentiment of the tweet."
   ]
  },
  {
   "cell_type": "code",
   "execution_count": 89,
   "metadata": {},
   "outputs": [
    {
     "data": {
      "text/html": [
       "<div>\n",
       "<style scoped>\n",
       "    .dataframe tbody tr th:only-of-type {\n",
       "        vertical-align: middle;\n",
       "    }\n",
       "\n",
       "    .dataframe tbody tr th {\n",
       "        vertical-align: top;\n",
       "    }\n",
       "\n",
       "    .dataframe thead th {\n",
       "        text-align: right;\n",
       "    }\n",
       "</style>\n",
       "<table border=\"1\" class=\"dataframe\">\n",
       "  <thead>\n",
       "    <tr style=\"text-align: right;\">\n",
       "      <th></th>\n",
       "      <th>count</th>\n",
       "    </tr>\n",
       "  </thead>\n",
       "  <tbody>\n",
       "    <tr>\n",
       "      <th>thanks</th>\n",
       "      <td>671.317094</td>\n",
       "    </tr>\n",
       "    <tr>\n",
       "      <th>hour</th>\n",
       "      <td>557.485807</td>\n",
       "    </tr>\n",
       "    <tr>\n",
       "      <th>cancelled</th>\n",
       "      <td>550.284146</td>\n",
       "    </tr>\n",
       "    <tr>\n",
       "      <th>time</th>\n",
       "      <td>498.771810</td>\n",
       "    </tr>\n",
       "    <tr>\n",
       "      <th>help</th>\n",
       "      <td>478.389505</td>\n",
       "    </tr>\n",
       "    <tr>\n",
       "      <th>service</th>\n",
       "      <td>445.524895</td>\n",
       "    </tr>\n",
       "    <tr>\n",
       "      <th>bag</th>\n",
       "      <td>435.905526</td>\n",
       "    </tr>\n",
       "    <tr>\n",
       "      <th>customer</th>\n",
       "      <td>418.350231</td>\n",
       "    </tr>\n",
       "    <tr>\n",
       "      <th>thank</th>\n",
       "      <td>412.980427</td>\n",
       "    </tr>\n",
       "    <tr>\n",
       "      <th>plane</th>\n",
       "      <td>402.180633</td>\n",
       "    </tr>\n",
       "    <tr>\n",
       "      <th>need</th>\n",
       "      <td>356.881440</td>\n",
       "    </tr>\n",
       "    <tr>\n",
       "      <th>amp</th>\n",
       "      <td>344.842921</td>\n",
       "    </tr>\n",
       "    <tr>\n",
       "      <th>hold</th>\n",
       "      <td>335.642914</td>\n",
       "    </tr>\n",
       "    <tr>\n",
       "      <th>airline</th>\n",
       "      <td>329.378748</td>\n",
       "    </tr>\n",
       "    <tr>\n",
       "      <th>day</th>\n",
       "      <td>313.364021</td>\n",
       "    </tr>\n",
       "    <tr>\n",
       "      <th>delayed</th>\n",
       "      <td>300.637255</td>\n",
       "    </tr>\n",
       "    <tr>\n",
       "      <th>gate</th>\n",
       "      <td>298.387604</td>\n",
       "    </tr>\n",
       "    <tr>\n",
       "      <th>seat</th>\n",
       "      <td>272.434693</td>\n",
       "    </tr>\n",
       "    <tr>\n",
       "      <th>like</th>\n",
       "      <td>270.362017</td>\n",
       "    </tr>\n",
       "    <tr>\n",
       "      <th>got</th>\n",
       "      <td>266.630895</td>\n",
       "    </tr>\n",
       "    <tr>\n",
       "      <th>delay</th>\n",
       "      <td>266.567722</td>\n",
       "    </tr>\n",
       "    <tr>\n",
       "      <th>guy</th>\n",
       "      <td>257.851648</td>\n",
       "    </tr>\n",
       "    <tr>\n",
       "      <th>phone</th>\n",
       "      <td>251.158785</td>\n",
       "    </tr>\n",
       "    <tr>\n",
       "      <th>customer service</th>\n",
       "      <td>246.777866</td>\n",
       "    </tr>\n",
       "    <tr>\n",
       "      <th>ticket</th>\n",
       "      <td>244.987208</td>\n",
       "    </tr>\n",
       "    <tr>\n",
       "      <th>today</th>\n",
       "      <td>243.442818</td>\n",
       "    </tr>\n",
       "    <tr>\n",
       "      <th>fly</th>\n",
       "      <td>239.199726</td>\n",
       "    </tr>\n",
       "    <tr>\n",
       "      <th>late</th>\n",
       "      <td>234.346274</td>\n",
       "    </tr>\n",
       "    <tr>\n",
       "      <th>agent</th>\n",
       "      <td>233.991093</td>\n",
       "    </tr>\n",
       "    <tr>\n",
       "      <th>make</th>\n",
       "      <td>227.268639</td>\n",
       "    </tr>\n",
       "  </tbody>\n",
       "</table>\n",
       "</div>"
      ],
      "text/plain": [
       "                       count\n",
       "thanks            671.317094\n",
       "hour              557.485807\n",
       "cancelled         550.284146\n",
       "time              498.771810\n",
       "help              478.389505\n",
       "service           445.524895\n",
       "bag               435.905526\n",
       "customer          418.350231\n",
       "thank             412.980427\n",
       "plane             402.180633\n",
       "need              356.881440\n",
       "amp               344.842921\n",
       "hold              335.642914\n",
       "airline           329.378748\n",
       "day               313.364021\n",
       "delayed           300.637255\n",
       "gate              298.387604\n",
       "seat              272.434693\n",
       "like              270.362017\n",
       "got               266.630895\n",
       "delay             266.567722\n",
       "guy               257.851648\n",
       "phone             251.158785\n",
       "customer service  246.777866\n",
       "ticket            244.987208\n",
       "today             243.442818\n",
       "fly               239.199726\n",
       "late              234.346274\n",
       "agent             233.991093\n",
       "make              227.268639"
      ]
     },
     "execution_count": 89,
     "metadata": {},
     "output_type": "execute_result"
    }
   ],
   "source": [
    "from sklearn.feature_extraction.text import TfidfVectorizer\n",
    "tdidf = TfidfVectorizer(max_features=30, stop_words='english',\n",
    "                     ngram_range=(1, 2), binary=True)\n",
    "pd.DataFrame(tdidf.fit_transform(X_train['text']).sum(\n",
    "    axis=0).reshape(-1, 1), index=tdidf.get_feature_names(), columns=['count']).sort_values('count', ascending=False)"
   ]
  },
  {
   "cell_type": "markdown",
   "metadata": {},
   "source": [
    "##### Bags of words \n",
    "\n",
    "Bag of Words (BoW) refers to the representation of text which describes the presence of words within the text data. The intuition behind this is that two similar text fields will contain similar kind of words, and will therefore have a similar bag of words. Further, that from the text alone we can learn something about the meaning of the document."
   ]
  },
  {
   "cell_type": "code",
   "execution_count": 90,
   "metadata": {},
   "outputs": [
    {
     "data": {
      "text/html": [
       "<div>\n",
       "<style scoped>\n",
       "    .dataframe tbody tr th:only-of-type {\n",
       "        vertical-align: middle;\n",
       "    }\n",
       "\n",
       "    .dataframe tbody tr th {\n",
       "        vertical-align: top;\n",
       "    }\n",
       "\n",
       "    .dataframe thead th {\n",
       "        text-align: right;\n",
       "    }\n",
       "</style>\n",
       "<table border=\"1\" class=\"dataframe\">\n",
       "  <thead>\n",
       "    <tr style=\"text-align: right;\">\n",
       "      <th></th>\n",
       "      <th>count</th>\n",
       "    </tr>\n",
       "  </thead>\n",
       "  <tbody>\n",
       "    <tr>\n",
       "      <th>hour</th>\n",
       "      <td>896</td>\n",
       "    </tr>\n",
       "    <tr>\n",
       "      <th>thanks</th>\n",
       "      <td>868</td>\n",
       "    </tr>\n",
       "    <tr>\n",
       "      <th>cancelled</th>\n",
       "      <td>807</td>\n",
       "    </tr>\n",
       "    <tr>\n",
       "      <th>service</th>\n",
       "      <td>770</td>\n",
       "    </tr>\n",
       "    <tr>\n",
       "      <th>customer</th>\n",
       "      <td>727</td>\n",
       "    </tr>\n",
       "    <tr>\n",
       "      <th>time</th>\n",
       "      <td>712</td>\n",
       "    </tr>\n",
       "    <tr>\n",
       "      <th>help</th>\n",
       "      <td>693</td>\n",
       "    </tr>\n",
       "    <tr>\n",
       "      <th>bag</th>\n",
       "      <td>573</td>\n",
       "    </tr>\n",
       "    <tr>\n",
       "      <th>plane</th>\n",
       "      <td>547</td>\n",
       "    </tr>\n",
       "    <tr>\n",
       "      <th>amp</th>\n",
       "      <td>501</td>\n",
       "    </tr>\n",
       "    <tr>\n",
       "      <th>hold</th>\n",
       "      <td>495</td>\n",
       "    </tr>\n",
       "    <tr>\n",
       "      <th>need</th>\n",
       "      <td>494</td>\n",
       "    </tr>\n",
       "    <tr>\n",
       "      <th>thank</th>\n",
       "      <td>486</td>\n",
       "    </tr>\n",
       "    <tr>\n",
       "      <th>customer service</th>\n",
       "      <td>460</td>\n",
       "    </tr>\n",
       "    <tr>\n",
       "      <th>airline</th>\n",
       "      <td>435</td>\n",
       "    </tr>\n",
       "    <tr>\n",
       "      <th>day</th>\n",
       "      <td>429</td>\n",
       "    </tr>\n",
       "    <tr>\n",
       "      <th>gate</th>\n",
       "      <td>415</td>\n",
       "    </tr>\n",
       "    <tr>\n",
       "      <th>delayed</th>\n",
       "      <td>405</td>\n",
       "    </tr>\n",
       "    <tr>\n",
       "      <th>got</th>\n",
       "      <td>361</td>\n",
       "    </tr>\n",
       "    <tr>\n",
       "      <th>delay</th>\n",
       "      <td>356</td>\n",
       "    </tr>\n",
       "    <tr>\n",
       "      <th>like</th>\n",
       "      <td>348</td>\n",
       "    </tr>\n",
       "    <tr>\n",
       "      <th>phone</th>\n",
       "      <td>344</td>\n",
       "    </tr>\n",
       "    <tr>\n",
       "      <th>seat</th>\n",
       "      <td>338</td>\n",
       "    </tr>\n",
       "    <tr>\n",
       "      <th>agent</th>\n",
       "      <td>337</td>\n",
       "    </tr>\n",
       "    <tr>\n",
       "      <th>today</th>\n",
       "      <td>332</td>\n",
       "    </tr>\n",
       "    <tr>\n",
       "      <th>guy</th>\n",
       "      <td>329</td>\n",
       "    </tr>\n",
       "    <tr>\n",
       "      <th>late</th>\n",
       "      <td>322</td>\n",
       "    </tr>\n",
       "    <tr>\n",
       "      <th>ticket</th>\n",
       "      <td>304</td>\n",
       "    </tr>\n",
       "    <tr>\n",
       "      <th>fly</th>\n",
       "      <td>300</td>\n",
       "    </tr>\n",
       "    <tr>\n",
       "      <th>make</th>\n",
       "      <td>297</td>\n",
       "    </tr>\n",
       "  </tbody>\n",
       "</table>\n",
       "</div>"
      ],
      "text/plain": [
       "                  count\n",
       "hour                896\n",
       "thanks              868\n",
       "cancelled           807\n",
       "service             770\n",
       "customer            727\n",
       "time                712\n",
       "help                693\n",
       "bag                 573\n",
       "plane               547\n",
       "amp                 501\n",
       "hold                495\n",
       "need                494\n",
       "thank               486\n",
       "customer service    460\n",
       "airline             435\n",
       "day                 429\n",
       "gate                415\n",
       "delayed             405\n",
       "got                 361\n",
       "delay               356\n",
       "like                348\n",
       "phone               344\n",
       "seat                338\n",
       "agent               337\n",
       "today               332\n",
       "guy                 329\n",
       "late                322\n",
       "ticket              304\n",
       "fly                 300\n",
       "make                297"
      ]
     },
     "execution_count": 90,
     "metadata": {},
     "output_type": "execute_result"
    }
   ],
   "source": [
    "# use count vectorizer to assess the most used words in companies\n",
    "cv = CountVectorizer(max_features=30, stop_words='english',\n",
    "                     ngram_range=(1, 2), binary=True)\n",
    "pd.DataFrame(cv.fit_transform(X_train['text']).sum(\n",
    "    axis=0).reshape(-1, 1), index=cv.get_feature_names(), columns=['count']).sort_values('count', ascending=False)"
   ]
  },
  {
   "cell_type": "markdown",
   "metadata": {},
   "source": [
    "#### saving to csv file"
   ]
  },
  {
   "cell_type": "code",
   "execution_count": 91,
   "metadata": {},
   "outputs": [],
   "source": [
    "train_set = pd.concat([X_train, y_train], axis=1)\n",
    "test_set = pd.concat([X_test, y_test], axis=1)"
   ]
  },
  {
   "cell_type": "code",
   "execution_count": 92,
   "metadata": {},
   "outputs": [
    {
     "data": {
      "text/plain": [
       "tweet_id                             0\n",
       "airline_sentiment_confidence         0\n",
       "negativereason_confidence            0\n",
       "airline                              0\n",
       "name                                 0\n",
       "retweet_count                        0\n",
       "text                                 0\n",
       "negativereason_confidence_NA         0\n",
       "negativereason_confidence_disc       0\n",
       "airline_sentiment_confidence_disc    0\n",
       "negativereason_NA                    0\n",
       "negativereason_random                0\n",
       "airline_sentiment                    0\n",
       "dtype: int64"
      ]
     },
     "execution_count": 92,
     "metadata": {},
     "output_type": "execute_result"
    }
   ],
   "source": [
    "#check the missing values before saving\n",
    "train_set.isnull().sum()"
   ]
  },
  {
   "cell_type": "code",
   "execution_count": 93,
   "metadata": {},
   "outputs": [
    {
     "data": {
      "text/plain": [
       "tweet_id                             0\n",
       "airline_sentiment_confidence         0\n",
       "negativereason_confidence            0\n",
       "airline                              0\n",
       "name                                 0\n",
       "retweet_count                        0\n",
       "text                                 0\n",
       "negativereason_confidence_NA         0\n",
       "negativereason_confidence_disc       0\n",
       "airline_sentiment_confidence_disc    0\n",
       "negativereason_NA                    0\n",
       "negativereason_random                0\n",
       "airline_sentiment                    0\n",
       "dtype: int64"
      ]
     },
     "execution_count": 93,
     "metadata": {},
     "output_type": "execute_result"
    }
   ],
   "source": [
    "test_set.isnull().sum()"
   ]
  },
  {
   "cell_type": "markdown",
   "metadata": {},
   "source": [
    "#### Model"
   ]
  },
  {
   "cell_type": "code",
   "execution_count": 94,
   "metadata": {},
   "outputs": [],
   "source": [
    "# to build the models\n",
    "from sklearn.linear_model import LogisticRegression\n",
    "from sklearn.preprocessing import StandardScaler\n",
    "from sklearn.model_selection import KFold, cross_val_score, cross_val_predict\n",
    "from sklearn.metrics import accuracy_score, confusion_matrix, classification_report, precision_score, recall_score, f1_score, roc_curve, roc_auc_score, auc\n",
    "\n",
    "#\n",
    "from sklearn.feature_extraction.text import CountVectorizer, TfidfVectorizer, TfidfTransformer\n",
    "\n",
    "#to set the pipelines \n",
    "from sklearn.base import BaseEstimator, TransformerMixin\n",
    "from sklearn.pipeline import Pipeline, FeatureUnion"
   ]
  },
  {
   "cell_type": "code",
   "execution_count": 95,
   "metadata": {},
   "outputs": [],
   "source": [
    "# let's now save the train and test sets for the next notebook!\n",
    "\n",
    "train_set.to_csv('xtrain.csv', index=False)\n",
    "test_set.to_csv('xtest.csv', index=False)"
   ]
  },
  {
   "cell_type": "code",
   "execution_count": 96,
   "metadata": {},
   "outputs": [],
   "source": [
    "# drop unnecessary variables from our training and testing sets\n",
    "X_train.drop(['tweet_id'], axis=1, inplace=True)\n",
    "X_test.drop(['tweet_id'], axis=1, inplace=True)"
   ]
  },
  {
   "cell_type": "code",
   "execution_count": 97,
   "metadata": {},
   "outputs": [],
   "source": [
    "# Import FunctionTransformer\n",
    "from sklearn.preprocessing import FunctionTransformer\n",
    "\n",
    "#get all numerical variables\n",
    "num_vars = [var for var in X_train.columns if X_train[var].dtypes != 'O']\n",
    "\n",
    "# Obtain the text data: get_text_data\n",
    "get_text_data = FunctionTransformer(lambda x: x['text'], validate=False)\n",
    "\n",
    "# Obtain the numeric data: get_numeric_data\n",
    "get_numeric_data = FunctionTransformer(lambda x: x[num_vars], validate=False)"
   ]
  },
  {
   "cell_type": "code",
   "execution_count": 98,
   "metadata": {},
   "outputs": [
    {
     "name": "stdout",
     "output_type": "stream",
     "text": [
      "\n",
      "Accuracy train set:  0.9047131147540983\n"
     ]
    }
   ],
   "source": [
    "# Create a FeatureUnion with nested pipeline: process_and_join_features\n",
    "process_and_join_features = FeatureUnion(\n",
    "            transformer_list = [\n",
    "                ('numerical', Pipeline([\n",
    "                    ('selector_n', get_numeric_data),\n",
    "                ])),\n",
    "                ('bagwords', Pipeline([\n",
    "                    ('selector', get_text_data),\n",
    "                    ('cvec', CountVectorizer()),\n",
    "                    ('tfidf',TfidfTransformer())\n",
    "                ]))\n",
    "             ]\n",
    "        )\n",
    "\n",
    "# Instantiate nested pipeline: pl\n",
    "pipelinemodel = Pipeline([\n",
    "        ('feats', process_and_join_features),\n",
    "    ('ss',StandardScaler(with_mean=False)),\n",
    "    \n",
    "        ('logreg', LogisticRegression())\n",
    "    ])\n",
    "\n",
    "#numeric_features__text_features__vectorizer__\n",
    "# Fit pl to the training data\n",
    "pipelinemodel.fit(X_train, y_train)\n",
    "\n",
    "# Compute and print accuracy on the train and test set\n",
    "print(\"\\nAccuracy train set: \", pipelinemodel.score(X_test, y_test))"
   ]
  },
  {
   "cell_type": "markdown",
   "metadata": {},
   "source": [
    "If we are computing the accurancy on your test set the score returned is dependent on the way that you split up the data. The data points in the test set may have some peculiarities that mean the accurancy computed on it is not representative of the model’s ability to generalize to unseen data. To combat this dependence on what is essentially an arbitrary split, we use a cross-validation."
   ]
  },
  {
   "cell_type": "code",
   "execution_count": 99,
   "metadata": {},
   "outputs": [
    {
     "name": "stdout",
     "output_type": "stream",
     "text": [
      "Cross-validated scores on the training set: [0.89344262 0.88558743 0.89378415 0.88046448]\n"
     ]
    }
   ],
   "source": [
    "kfold = KFold(n_splits=4, random_state=27)\n",
    "scores = cross_val_score(pipelinemodel, X_train, y_train, cv=kfold)\n",
    "print(\"Cross-validated scores on the training set:\", scores)"
   ]
  },
  {
   "cell_type": "markdown",
   "metadata": {},
   "source": [
    "##### Hyperparameter tunning"
   ]
  },
  {
   "cell_type": "code",
   "execution_count": 100,
   "metadata": {},
   "outputs": [],
   "source": [
    "parameters = {\n",
    "    #'feats__bagwords__cvec__ngram_range': ((1,1),(1,2), (1,3)), #previously tested other ngram ranges, but it's never anything to do with 3\n",
    "    #'feats__bagwords__cvec__max_features': (None, 2000, 5000, 10000),\n",
    "    'feats__bagwords__tfidf__norm': ('l1','l2'),\n",
    "    'logreg__penalty': ('l1','l2'),\n",
    "    'logreg__C': np.logspace(-5,8,10)\n",
    "    }"
   ]
  },
  {
   "cell_type": "code",
   "execution_count": 101,
   "metadata": {},
   "outputs": [
    {
     "name": "stdout",
     "output_type": "stream",
     "text": [
      "Fitting 4 folds for each of 40 candidates, totalling 160 fits\n"
     ]
    },
    {
     "name": "stderr",
     "output_type": "stream",
     "text": [
      "[Parallel(n_jobs=-1)]: Using backend LokyBackend with 4 concurrent workers.\n",
      "[Parallel(n_jobs=-1)]: Done  42 tasks      | elapsed:   19.6s\n",
      "[Parallel(n_jobs=-1)]: Done 160 out of 160 | elapsed:  1.5min finished\n"
     ]
    },
    {
     "name": "stdout",
     "output_type": "stream",
     "text": [
      "Tuned Logistic Regression Parameter: {'feats__bagwords__tfidf__norm': 'l2', 'logreg__C': 0.21544346900318823, 'logreg__penalty': 'l1'}\n",
      "Tuned Logistic Regression Accuracy: 0.9203381147540983\n"
     ]
    }
   ],
   "source": [
    "# Instantiate the GridSearchCV object: LogRegGS\n",
    "LogRegGS = GridSearchCV(pipelinemodel, parameters, cv=4, n_jobs=-1, verbose=1)\n",
    "\n",
    "## Fit it to the training data\n",
    "LogRegGS.fit(X_train,y_train)\n",
    "\n",
    "# Print the optimal parameters and best score\n",
    "print(\"Tuned Logistic Regression Parameter: {}\".format(LogRegGS.best_params_))\n",
    "print(\"Tuned Logistic Regression Accuracy: {}\".format(LogRegGS.best_score_))"
   ]
  },
  {
   "cell_type": "code",
   "execution_count": 102,
   "metadata": {},
   "outputs": [
    {
     "data": {
      "text/plain": [
       "Pipeline(memory=None,\n",
       "     steps=[('feats', FeatureUnion(n_jobs=None,\n",
       "       transformer_list=[('numerical', Pipeline(memory=None,\n",
       "     steps=[('selector_n', FunctionTransformer(accept_sparse=False, check_inverse=True,\n",
       "          func=<function <lambda> at 0x000002D7815BF268>, inv_kw_args=None,\n",
       "          inverse_func=None, kw_...penalty='l1', random_state=None,\n",
       "          solver='warn', tol=0.0001, verbose=0, warm_start=False))])"
      ]
     },
     "execution_count": 102,
     "metadata": {},
     "output_type": "execute_result"
    }
   ],
   "source": [
    "BestLogRegGS=LogRegGS.best_estimator_\n",
    "BestLogRegGS.fit(X_train, y_train)"
   ]
  },
  {
   "cell_type": "code",
   "execution_count": 103,
   "metadata": {},
   "outputs": [
    {
     "name": "stdout",
     "output_type": "stream",
     "text": [
      "Tuned Logistic Regression Accuracy: on the test set: 0.9252049180327869\n"
     ]
    }
   ],
   "source": [
    "predictions = BestLogRegGS.predict(X_test)\n",
    "acc = accuracy_score(y_test, predictions)\n",
    "print(\"Tuned Logistic Regression Accuracy: on the test set: {}\".format(acc))"
   ]
  },
  {
   "cell_type": "markdown",
   "metadata": {},
   "source": [
    "##### Training and test errors"
   ]
  },
  {
   "cell_type": "code",
   "execution_count": 104,
   "metadata": {},
   "outputs": [],
   "source": [
    "def calc_train_error(X_train, y_train, model):\n",
    "    '''returns in-sample error for already fit model.'''\n",
    "    predictions = model.predict(X_train)\n",
    "    mse = mean_squared_error(y_train, predictions)\n",
    "    rmse = np.sqrt(mse)\n",
    "    return mse\n",
    "    \n",
    "def calc_validation_error(X_test, y_test, model):\n",
    "    '''returns out-of-sample error for already fit model.'''\n",
    "    predictions = model.predict(X_test)\n",
    "    mse = mean_squared_error(y_test, predictions)\n",
    "    rmse = np.sqrt(mse)\n",
    "    return mse\n",
    "    \n",
    "def calc_metrics(X_train, y_train, X_test, y_test, model):\n",
    "    '''fits model and returns the RMSE for in-sample error and out-of-sample error'''\n",
    "    model.fit(X_train, y_train)\n",
    "    train_error = calc_train_error(X_train, y_train, model)\n",
    "    validation_error = calc_validation_error(X_test, y_test, model)\n",
    "    return train_error, validation_error"
   ]
  },
  {
   "cell_type": "code",
   "execution_count": 105,
   "metadata": {},
   "outputs": [
    {
     "name": "stdout",
     "output_type": "stream",
     "text": [
      "train error: 0.006 | test error: 0.074\n",
      "train/test: 12.3\n"
     ]
    }
   ],
   "source": [
    "train_error, test_error = calc_metrics(X_train, y_train, X_test, y_test, BestLogRegGS)\n",
    "train_error, test_error = round(train_error, 3), round(test_error, 3)\n",
    "\n",
    "print('train error: {} | test error: {}'.format(train_error, test_error))\n",
    "print('train/test: {}'.format(round(test_error/train_error, 1)))"
   ]
  },
  {
   "cell_type": "markdown",
   "metadata": {},
   "source": [
    "The training error is much more lower than the test error. In fact, the test error is 12.5 times or 125% worse. It’s a big difference. It means that my model is overfitting and means that my model has too much complexity. The text still requires preprocessing. There are many mistypus which haven't been corrected. Also I could try the other way to lemmatize or stemmatize the text.\n",
    "\n",
    "I have also checked how my model works on the one hot encoded catgorical variables (instead of mean encoding) but the result was almost the same"
   ]
  },
  {
   "cell_type": "code",
   "execution_count": 106,
   "metadata": {},
   "outputs": [
    {
     "name": "stdout",
     "output_type": "stream",
     "text": [
      "              precision    recall  f1-score   support\n",
      "\n",
      "          -1       1.00      1.00      1.00      1870\n",
      "           0       0.79      0.87      0.83       614\n",
      "           1       0.79      0.68      0.74       444\n",
      "\n",
      "   micro avg       0.93      0.93      0.93      2928\n",
      "   macro avg       0.86      0.85      0.86      2928\n",
      "weighted avg       0.93      0.93      0.92      2928\n",
      "\n"
     ]
    }
   ],
   "source": [
    "print(classification_report(y_test, predictions))"
   ]
  },
  {
   "cell_type": "markdown",
   "metadata": {},
   "source": [
    "My classification report shows that my model can train perfectly the negative sentiment but it doesn't do the same job when it tries to predict the positive sentiment. If we look again at the classes distribution, we will see that the fraction of the positive sentiment in the training and the test sets is the smallest."
   ]
  },
  {
   "cell_type": "code",
   "execution_count": 107,
   "metadata": {},
   "outputs": [
    {
     "data": {
      "text/plain": [
       "-1    0.623975\n",
       " 0    0.212176\n",
       " 1    0.163849\n",
       "Name: airline_sentiment, dtype: float64"
      ]
     },
     "execution_count": 107,
     "metadata": {},
     "output_type": "execute_result"
    }
   ],
   "source": [
    "#the classes dristributions on the test and training sets\n",
    "y_train.value_counts()/len(y_train)"
   ]
  },
  {
   "cell_type": "code",
   "execution_count": 108,
   "metadata": {},
   "outputs": [
    {
     "data": {
      "text/plain": [
       "-1    0.638661\n",
       " 0    0.209699\n",
       " 1    0.151639\n",
       "Name: airline_sentiment, dtype: float64"
      ]
     },
     "execution_count": 108,
     "metadata": {},
     "output_type": "execute_result"
    }
   ],
   "source": [
    "y_test.value_counts()/len(y_test)"
   ]
  },
  {
   "cell_type": "markdown",
   "metadata": {},
   "source": [
    "##### ROC curve and a precision-recall curve for the gridsearched model"
   ]
  },
  {
   "cell_type": "code",
   "execution_count": 109,
   "metadata": {},
   "outputs": [],
   "source": [
    "y_test_bin = label_binarize(y_test, BestLogRegGS.classes_)"
   ]
  },
  {
   "cell_type": "code",
   "execution_count": 110,
   "metadata": {},
   "outputs": [],
   "source": [
    "def plot_precision_recall(model,y_bin,X,f1_lines=True):\n",
    "    precision = {}\n",
    "    recall = {}\n",
    "\n",
    "    for i, cl in enumerate(model.classes_):\n",
    "        precision[cl], recall[cl], _ = metrics.precision_recall_curve(y_bin[:,i],model.predict_proba(X)[:,i])\n",
    "    \n",
    "    average_precision_scores = [round(metrics.average_precision_score(y_bin[:,i],model.predict_proba(X)[:,i]),2) for i in range(len(model.classes_))]\n",
    "    \n",
    "    plt.figure(figsize=(6,4))\n",
    "    for i, key in enumerate(precision.keys()):\n",
    "        plt.plot(precision[key],recall[key],lw = 2, \n",
    "                 label='class {}, average precision score {}'.format(key,average_precision_scores[i]))\n",
    "\n",
    "    plt.ylim([0,1.05])\n",
    "    plt.legend(loc='lower left')\n",
    "    plt.title('Precision-Recall Curve',fontsize=20)\n",
    "    plt.xlabel('Recall',fontsize=18)\n",
    "    plt.ylabel('Precision',fontsize=18)\n",
    "    \n",
    "    if f1_lines == True:\n",
    "        for const in [0.2,0.4,0.6,0.8]:\n",
    "            x_vals = np.linspace(0.001,0.999,100)\n",
    "            y_vals = 1./(2./const-1./x_vals)\n",
    "            plt.plot(x_vals[y_vals>0],y_vals[y_vals>0],color='lightblue',ls='--',alpha=0.9)\n",
    "            plt.ylim([0,1])\n",
    "            plt.annotate('f1={0:0.1f}'.format(const), xy=(x_vals[-10], y_vals[-2]+0.0))\n",
    "\n",
    "    plt.show()"
   ]
  },
  {
   "cell_type": "code",
   "execution_count": 111,
   "metadata": {},
   "outputs": [
    {
     "data": {
      "image/png": "[encoded data removed]",
      "text/plain": [
       "<Figure size 432x288 with 1 Axes>"
      ]
     },
     "metadata": {
      "needs_background": "light"
     },
     "output_type": "display_data"
    }
   ],
   "source": [
    "from sklearn import metrics\n",
    "plot_precision_recall(BestLogRegGS,y_test_bin,X_test)"
   ]
  },
  {
   "cell_type": "code",
   "execution_count": 112,
   "metadata": {},
   "outputs": [],
   "source": [
    "def plot_roc(model,y_bin,X):\n",
    "    fpr = {}\n",
    "    tpr = {}\n",
    "    for i, cl in enumerate(model.classes_):\n",
    "        fpr[cl], tpr[cl], _ = metrics.roc_curve(y_bin[:,i],model.predict_proba(X)[:,i])\n",
    "    auc_scores = [round(metrics.roc_auc_score(y_bin[:,i],model.predict_proba(X)[:,i]),2) for i in range(len(model.classes_))]\n",
    "    for i, key in enumerate(fpr.keys()):\n",
    "        plt.plot(fpr[key],tpr[key],lw=2,label='class {}, ROC_AUC {}'.format(key,auc_scores[i]))\n",
    "    plt.plot([0,1],[0,1],ls='--',lw=2)\n",
    "    plt.ylim([0,1.05])\n",
    "    plt.legend(loc='lower right')\n",
    "    plt.title('ROC Curve',fontsize=20)\n",
    "    plt.xlabel('FPR',fontsize=18)\n",
    "    plt.ylabel('TPR',fontsize=18)\n",
    "    \n",
    "    plt.show()"
   ]
  },
  {
   "cell_type": "code",
   "execution_count": 113,
   "metadata": {},
   "outputs": [
    {
     "data": {
      "image/png": "[encoded data removed]",
      "text/plain": [
       "<Figure size 432x288 with 1 Axes>"
      ]
     },
     "metadata": {
      "needs_background": "light"
     },
     "output_type": "display_data"
    }
   ],
   "source": [
    "plot_roc(BestLogRegGS,y_test_bin,X_test)"
   ]
  }
 ],
 "metadata": {
  "kernelspec": {
   "display_name": "Python 3",
   "language": "python",
   "name": "python3"
  },
  "language_info": {
   "codemirror_mode": {
    "name": "ipython",
    "version": 3
   },
   "file_extension": ".py",
   "mimetype": "text/x-python",
   "name": "python",
   "nbconvert_exporter": "python",
   "pygments_lexer": "ipython3",
   "version": "3.7.1"
  }
 },
 "nbformat": 4,
 "nbformat_minor": 2
}
